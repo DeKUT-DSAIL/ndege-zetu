{
 "cells": [
  {
   "cell_type": "markdown",
   "id": "545d2df0-04b7-4294-99fc-3fb5220791aa",
   "metadata": {},
   "source": [
    "# Evaluation of BirdNET on Mt Species"
   ]
  },
  {
   "cell_type": "code",
   "execution_count": 1,
   "id": "ce9b9ba6-5dcb-48ce-821e-2ec5a602d5ee",
   "metadata": {},
   "outputs": [],
   "source": [
    "import os\n",
    "import random\n",
    "import json\n",
    "import numpy as np\n",
    "import pandas as pd\n",
    "\n",
    "from sklearn.metrics import confusion_matrix, accuracy_score, precision_score, recall_score, f1_score"
   ]
  },
  {
   "cell_type": "code",
   "execution_count": 2,
   "id": "84c5bce5-ce1e-46e8-8efa-5078a1ebb844",
   "metadata": {},
   "outputs": [],
   "source": [
    "def species_from_df(df):\n",
    "    '''\n",
    "    This function extracts species from the audio annotation files\n",
    "    '''\n",
    "    sps = []\n",
    "    for i in range(len(df)):\n",
    "        if not pd.isna(df.iloc[i]['Foreground Species']):\n",
    "            sps += df.iloc[i]['Foreground Species'].split(';')\n",
    "        if not pd.isna(df.iloc[i]['Background Species']):\n",
    "            sps += df.iloc[i]['Background Species'].split(';')\n",
    "    return list(set(sps))"
   ]
  },
  {
   "cell_type": "code",
   "execution_count": 3,
   "id": "0e158347-6578-4abd-8901-f7aa146c29bc",
   "metadata": {},
   "outputs": [],
   "source": [
    " # audio \n",
    "annotation_files = os.listdir('../annotations/')\n",
    "\n",
    "aru_dfs = []\n",
    "for filename in annotation_files:\n",
    "    if 'aru' in filename  and filename.endswith('csv'):\n",
    "    \n",
    "        df = pd.read_csv(os.path.join('../annotations/', filename))\n",
    "        aru_dfs.append(df)\n",
    "    \n",
    "annotations = pd.concat(aru_dfs)\n",
    "aru_cns = species_from_df(annotations)\n",
    "aru_cns.sort()"
   ]
  },
  {
   "cell_type": "code",
   "execution_count": 4,
   "id": "c2c70e53-852e-478b-8185-8e9b05853bcd",
   "metadata": {},
   "outputs": [],
   "source": [
    "num_files = 0\n",
    "for indx, filename in enumerate(list(annotations['Filename'])):\n",
    "\n",
    "    recording_cn = []\n",
    "    if not pd.isna(annotations.iloc[indx]['Foreground Species']):\n",
    "        recording_cn += annotations.iloc[indx]['Foreground Species'].split(';')\n",
    "    if not pd.isna(annotations.iloc[indx]['Background Species']):\n",
    "        recording_cn += annotations.iloc[indx]['Background Species'].split(';')\n",
    "    \n",
    "    if len(recording_cn):\n",
    "        num_files += 1"
   ]
  },
  {
   "cell_type": "code",
   "execution_count": 5,
   "id": "aa0da150-7992-49d2-8d29-bbd905ea8dc2",
   "metadata": {},
   "outputs": [],
   "source": [
    "# scientific names\n",
    "df_sp = pd.read_csv('../annotations/Kenya-Species-List.csv')\n",
    "# common name\n",
    "kenyan_sp_cn = list(df_sp['Common Name'])\n",
    "# scientific name\n",
    "kenyan_sp_sn = list(df_sp['Scientific Name'])"
   ]
  },
  {
   "cell_type": "code",
   "execution_count": 6,
   "id": "629c4bc7-15fc-4302-af3d-27d89b3c7dad",
   "metadata": {},
   "outputs": [
    {
     "data": {
      "text/plain": [
       "1188"
      ]
     },
     "execution_count": 6,
     "metadata": {},
     "output_type": "execute_result"
    }
   ],
   "source": [
    "num_files"
   ]
  },
  {
   "cell_type": "code",
   "execution_count": 7,
   "id": "9a082a96-85c7-4996-8771-0518c4f6a794",
   "metadata": {},
   "outputs": [],
   "source": [
    "aru_sns = [df_sp[df_sp['Common Name']==cn].iloc[0]['Scientific Name'] for cn in aru_cns]"
   ]
  },
  {
   "cell_type": "code",
   "execution_count": 8,
   "id": "7e54b088-b48e-4cb9-97af-75372d57ccd6",
   "metadata": {},
   "outputs": [],
   "source": [
    "# results\n",
    "birdnet_gt = np.load('aru_gt.npy')\n",
    "birdnet_res = np.load('aru_pred.npy')"
   ]
  },
  {
   "cell_type": "code",
   "execution_count": 9,
   "id": "d3b3b200-148c-439d-ac5a-2dd1687ae0d4",
   "metadata": {},
   "outputs": [
    {
     "data": {
      "text/plain": [
       "1188"
      ]
     },
     "execution_count": 9,
     "metadata": {},
     "output_type": "execute_result"
    }
   ],
   "source": [
    "np.sum(np.sum(birdnet_gt, 1) > 0)"
   ]
  },
  {
   "cell_type": "code",
   "execution_count": 16,
   "id": "91f5c138-a0c9-4399-a400-b9d40c0ed3fa",
   "metadata": {},
   "outputs": [
    {
     "name": "stderr",
     "output_type": "stream",
     "text": [
      "/home/ftei-dsw/Documents/Research/envs/tf-env/lib/python3.10/site-packages/sklearn/metrics/_classification.py:1471: UndefinedMetricWarning: Precision is ill-defined and being set to 0.0 in labels with no predicted samples. Use `zero_division` parameter to control this behavior.\n",
      "  _warn_prf(average, modifier, msg_start, len(result))\n"
     ]
    },
    {
     "data": {
      "text/plain": [
       "0.22852806069269482"
      ]
     },
     "execution_count": 16,
     "metadata": {},
     "output_type": "execute_result"
    }
   ],
   "source": [
    "precision_score(birdnet_gt, birdnet_res, average='macro')"
   ]
  },
  {
   "cell_type": "code",
   "execution_count": 17,
   "id": "7396377e-60f9-4b88-bca7-75b4e3ce5b23",
   "metadata": {},
   "outputs": [
    {
     "data": {
      "text/plain": [
       "0.012626262626262626"
      ]
     },
     "execution_count": 17,
     "metadata": {},
     "output_type": "execute_result"
    }
   ],
   "source": [
    "accuracy_score(birdnet_gt, birdnet_res)"
   ]
  },
  {
   "cell_type": "code",
   "execution_count": 18,
   "id": "72f807a4-2e93-48c7-b460-2adc35e4cbe8",
   "metadata": {},
   "outputs": [
    {
     "data": {
      "text/plain": [
       "0.05511852455942012"
      ]
     },
     "execution_count": 18,
     "metadata": {},
     "output_type": "execute_result"
    }
   ],
   "source": [
    "recall_score(birdnet_gt, birdnet_res, average='macro')"
   ]
  },
  {
   "cell_type": "code",
   "execution_count": null,
   "id": "5a7154f6-11a5-41c9-a379-a5e9b96ccb5f",
   "metadata": {},
   "outputs": [],
   "source": []
  },
  {
   "cell_type": "code",
   "execution_count": null,
   "id": "5ef5c195-216d-448c-b18e-5a0158c5cbe5",
   "metadata": {},
   "outputs": [],
   "source": []
  },
  {
   "cell_type": "code",
   "execution_count": 22,
   "id": "1f70d21a-44f8-48d1-b192-f47ee32229f8",
   "metadata": {},
   "outputs": [
    {
     "name": "stdout",
     "output_type": "stream",
     "text": [
      "Abyssinian Crimsonwing 0.0\n",
      "African Citril 0.0\n",
      "African Dusky Flycatcher 0.07142857142857142\n",
      "African Goshawk 0.16666666666666666\n",
      "African Paradise Flycatcher 0.0\n",
      "African Pied Wagtail 0.0\n",
      "Amethyst Sunbird 0.1111111111111111\n",
      "Baglafecht Weaver 0.125\n",
      "Bar-tailed Trogon 0.0\n",
      "Black Cuckoo 0.0\n",
      "Black-backed Puffback 0.18181818181818182\n",
      "Black-collared Apalis 0.0\n",
      "Black-crowned Tchagra 0.0\n",
      "Black-fronted Bushshrike 0.0\n",
      "Black-headed Apalis 0.0\n",
      "Black-headed Oriole 0.23076923076923078\n",
      "Black-throated Apalis 0.0\n",
      "Black-throated Wattle-eye 0.0\n",
      "Blackcap 0.0\n",
      "Blue-mantled Crested Flycatcher 0.0\n",
      "Bronze Sunbird 0.0\n",
      "Brown Woodland Warbler 0.009633911368015413\n",
      "Brown-backed Scrub Robin 0.058823529411764705\n",
      "Brown-chested Alethe 0.0\n",
      "Brubru 0.0\n",
      "Cabanis's Greenbul 0.0\n",
      "Cape Robin Chat 0.13636363636363635\n",
      "Cardinal Woodpecker 0.0\n",
      "Chestnut-throated Apalis 0.0\n",
      "Chin-spot Batis 0.10526315789473684\n",
      "Cinnamon Bracken Warbler 0.21951219512195122\n",
      "Cinnamon-chested Bee-eater 0.35714285714285715\n",
      "Collared Sunbird 0.07317073170731707\n",
      "Common Bulbul 0.18666666666666668\n",
      "Common Drongo 0.0\n",
      "Crowned Eagle 0.0\n",
      "Dark-capped Yellow Warbler 0.0\n",
      "Eastern Double-collared Sunbird 0.0\n",
      "Emerald-spotted Wood Dove 0.2727272727272727\n",
      "Eurasian Bee-eater 0.0\n",
      "Golden-breasted Bunting 0.0\n",
      "Grey Apalis 0.10714285714285714\n",
      "Grey-backed Camaroptera 0.13966480446927373\n",
      "Grey-capped Warbler 0.0\n",
      "Grey-headed Kingfisher 0.0\n",
      "Grey-headed Sparrow 0.0\n",
      "Hadada Ibis 0.2857142857142857\n",
      "Hartlaub's Turaco 0.336283185840708\n",
      "Hinde's Babbler 0.0\n",
      "Holub's Golden Weaver 0.0\n",
      "Lesser Honeyguide 0.2857142857142857\n",
      "Lühder's Bushshrike 0.0\n",
      "Montane Oriole 0.0\n",
      "Montane White-eye 0.0\n",
      "Mountain Greenbul 0.0\n",
      "Mountain Illadopsis 0.0\n",
      "Mountain Wagtail 0.0\n",
      "Mountain Yellow Warbler 0.0\n",
      "Narina Trogon 0.0\n",
      "Northern Brownbul 0.0\n",
      "Northern Double-collared Sunbird 0.0\n",
      "Northern Pied Babbler 0.0\n",
      "Olive Sunbird 0.0\n",
      "Olive Thrush 0.0\n",
      "Pale Flycatcher 0.0\n",
      "Pied Crow 0.0\n",
      "Red-cheeked Cordon-bleu 0.0\n",
      "Red-chested Cuckoo 1.0\n",
      "Red-eyed Dove 0.0\n",
      "Red-faced Cisticola 0.0\n",
      "Red-fronted Parrot 0.0\n",
      "Red-fronted Tinkerbird 0.0\n",
      "Red-winged Starling 0.0\n",
      "Reichenow's Seedeater 0.0\n",
      "Rufous Chatterer 0.0\n",
      "Rüppell's Robin Chat 0.06896551724137931\n",
      "Scarlet-chested Sunbird 0.0\n",
      "Silvery-cheeked Hornbill 0.0\n",
      "Singing Cisticola 0.09090909090909091\n",
      "Speckled Mousebird 0.0\n",
      "Speckled Pigeon 0.0\n",
      "Spectacled Weaver 0.0\n",
      "Spot-flanked Barbet 0.0\n",
      "Streaky Seedeater 0.0\n",
      "Sulphur-breasted Bushshrike 0.0\n",
      "Tambourine Dove 0.22\n",
      "Tawny-flanked Prinia 0.2\n",
      "Thrush Nightingale 0.1111111111111111\n",
      "Tropical Boubou 0.0\n",
      "Variable Sunbird 0.02631578947368421\n",
      "White-bellied Tit 0.0\n",
      "White-browed Robin Chat 0.0\n",
      "White-headed Wood-hoopoe 0.0\n",
      "White-starred Robin 0.014285714285714285\n",
      "White-tailed Crested Flycatcher 0.0\n",
      "Yellow Bishop 0.0\n",
      "Yellow-breasted Apalis 0.045454545454545456\n",
      "Yellow-rumped Tinkerbird 0.27419354838709675\n",
      "Yellow-whiskered Greenbul 0.0\n",
      "Zanzibar Greenbul 0.0\n"
     ]
    }
   ],
   "source": [
    "for sp in aru_cns:\n",
    "    indx = aru_cns.index(sp)\n",
    "    print(sp, recall_score(birdnet_gt[:,indx], birdnet_res[:,indx]))\n",
    "    "
   ]
  },
  {
   "cell_type": "code",
   "execution_count": 14,
   "id": "5381314a-14c6-4238-aad4-bc8a3aea9450",
   "metadata": {},
   "outputs": [
    {
     "data": {
      "text/plain": [
       "0.0"
      ]
     },
     "execution_count": 14,
     "metadata": {},
     "output_type": "execute_result"
    }
   ],
   "source": [
    "f1_score(birdnet_gt[:22,0], birdnet_res[:22,0])"
   ]
  },
  {
   "cell_type": "code",
   "execution_count": 15,
   "id": "a7115f62-698a-4c44-819e-25f88315c990",
   "metadata": {},
   "outputs": [
    {
     "data": {
      "text/plain": [
       "array([0., 0., 0., 0., 0., 0., 0., 0., 0., 0., 0., 0., 0., 0., 0., 0., 0.,\n",
       "       0., 0., 0., 0., 0.])"
      ]
     },
     "execution_count": 15,
     "metadata": {},
     "output_type": "execute_result"
    }
   ],
   "source": [
    "birdnet_res[:22,0]"
   ]
  },
  {
   "cell_type": "code",
   "execution_count": null,
   "id": "cf4db7ad-25a4-463c-93e5-a26ebcf76d95",
   "metadata": {},
   "outputs": [],
   "source": []
  }
 ],
 "metadata": {
  "kernelspec": {
   "display_name": "Python 3 (ipykernel)",
   "language": "python",
   "name": "python3"
  },
  "language_info": {
   "codemirror_mode": {
    "name": "ipython",
    "version": 3
   },
   "file_extension": ".py",
   "mimetype": "text/x-python",
   "name": "python",
   "nbconvert_exporter": "python",
   "pygments_lexer": "ipython3",
   "version": "3.10.13"
  }
 },
 "nbformat": 4,
 "nbformat_minor": 5
}
