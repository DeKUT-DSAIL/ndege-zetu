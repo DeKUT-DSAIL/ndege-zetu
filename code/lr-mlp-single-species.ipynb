{
 "cells": [
  {
   "cell_type": "markdown",
   "id": "405dfa3e-232d-4dc5-bce4-e13a4e0b9bbf",
   "metadata": {},
   "source": [
    "# Single Species Classifier\n",
    "\n",
    "We demonstrate the classification of bird species observed in the Mt Kenya ecosystem leveraging open source models. In particular we demonstrate the use of embeddings obtained from Google's [Bird Vocalization Classifier](https://www.kaggle.com/models/google/bird-vocalization-classifier) to train classifiers for the species observed.\n",
    "\n",
    "In this notebook we use logistic regression and a multilayer perceptron to classify bird species from the Mt Kenya ecosystem using embeddings extracted from the bird vocalisation classifier as features."
   ]
  },
  {
   "cell_type": "code",
   "execution_count": 1,
   "id": "ec5677ce-047e-401e-b393-bc3791ec3fa3",
   "metadata": {},
   "outputs": [],
   "source": [
    "import os\n",
    "import json\n",
    "import random\n",
    "import numpy as np\n",
    "from sklearn.linear_model import LogisticRegression\n",
    "from sklearn.neural_network import MLPClassifier\n",
    "\n",
    "from sklearn.model_selection import train_test_split\n",
    "from sklearn.preprocessing import LabelEncoder\n",
    "from collections import Counter\n",
    "from sklearn.metrics import roc_auc_score\n",
    "from sklearn.metrics import accuracy_score\n",
    "\n",
    "from sklearn.metrics import confusion_matrix, ConfusionMatrixDisplay\n",
    "import matplotlib.pyplot as plt\n"
   ]
  },
  {
   "cell_type": "code",
   "execution_count": 2,
   "id": "722bd303-fe49-4afc-9382-1b5cedcc44af",
   "metadata": {},
   "outputs": [],
   "source": [
    "# set the seed for reproducability\n",
    "np.random.seed(1234)\n",
    "random.seed(1234)"
   ]
  },
  {
   "cell_type": "code",
   "execution_count": 3,
   "id": "f36bc577-efe0-43e8-a181-03f6042159c3",
   "metadata": {},
   "outputs": [],
   "source": [
    "embeddings_dir = '../embeddings/'"
   ]
  },
  {
   "cell_type": "code",
   "execution_count": 4,
   "id": "cc1f7d7d-ac8e-4cc8-8ef6-18c094b76a38",
   "metadata": {},
   "outputs": [],
   "source": [
    "embedding_files = os.listdir(embeddings_dir)"
   ]
  },
  {
   "cell_type": "code",
   "execution_count": 5,
   "id": "122f9324-b463-48ef-8154-d2e9e427e4d0",
   "metadata": {},
   "outputs": [],
   "source": [
    "with open('../annotations/single_species_filenames.json', 'r') as fp:\n",
    "    single_species_filenames = json.load(fp)\n",
    "single_species_list = list(single_species_filenames.keys())\n",
    "single_species_list = [s.replace('mp3','npz') for s in single_species_list]"
   ]
  },
  {
   "cell_type": "markdown",
   "id": "392b0f0e-3350-4eba-a3bb-cfd003c84a5b",
   "metadata": {},
   "source": [
    "## Features and labels\n",
    "\n",
    "The 1280 dimensional embeddings are extracted from each of the 12 five second segments from the 1\n",
    "minute long recordings and the mean of these embeddings are used as a feature for the recording."
   ]
  },
  {
   "cell_type": "code",
   "execution_count": 6,
   "id": "2638d1cb-120b-4055-b7a3-b432e554cdba",
   "metadata": {},
   "outputs": [],
   "source": [
    "labels = []\n",
    "mean_embeddings = np.array([])\n",
    "for embedding_file in single_species_list:\n",
    "    labels.append(single_species_filenames[embedding_file.replace('npz', 'mp3')])\n",
    "    npzfile = np.load(os.path.join(embeddings_dir, embedding_file))\n",
    "    file_embeddings = npzfile['embeddings']\n",
    "\n",
    "    if mean_embeddings.size:\n",
    "        mean_embeddings = np.vstack((mean_embeddings, np.mean(file_embeddings, 0)))\n",
    "    else:\n",
    "        mean_embeddings = np.mean(file_embeddings, 0)"
   ]
  },
  {
   "cell_type": "code",
   "execution_count": 7,
   "id": "f630728f-a7a7-4d4c-8e7c-78db11380fb8",
   "metadata": {},
   "outputs": [],
   "source": [
    "label_encoder = LabelEncoder()"
   ]
  },
  {
   "cell_type": "code",
   "execution_count": 8,
   "id": "933f9f1c-ab1a-4266-a2d8-d6cd2f8e614f",
   "metadata": {},
   "outputs": [],
   "source": [
    "label_indices = label_encoder.fit_transform(labels)"
   ]
  },
  {
   "cell_type": "markdown",
   "id": "c63eb4f3-0c62-4b22-a62e-20a1523b6a27",
   "metadata": {},
   "source": [
    "We use species with more than 10 recordings"
   ]
  },
  {
   "cell_type": "code",
   "execution_count": 9,
   "id": "9f3d9fb0-f04f-4c46-bb43-d11e43bebf1c",
   "metadata": {},
   "outputs": [],
   "source": [
    "label_counts = Counter(labels)\n",
    "threshold = 10\n",
    "\n",
    "filtered_labels = [label for label, count in label_counts.items() if count >= threshold]"
   ]
  },
  {
   "cell_type": "code",
   "execution_count": 10,
   "id": "dffb0adb-5797-4afa-9559-f5ba18e81edb",
   "metadata": {},
   "outputs": [
    {
     "data": {
      "text/plain": [
       "['Cinnamon Bracken Warbler',\n",
       " 'Brown Woodland Warbler',\n",
       " 'White-starred Robin',\n",
       " 'Chestnut-throated Apalis',\n",
       " 'Montane White-eye',\n",
       " 'Mountain Yellow Warbler',\n",
       " \"Hartlaub's Turaco\",\n",
       " 'Red-fronted Parrot',\n",
       " 'Yellow-whiskered Greenbul']"
      ]
     },
     "execution_count": 10,
     "metadata": {},
     "output_type": "execute_result"
    }
   ],
   "source": [
    "filtered_labels"
   ]
  },
  {
   "cell_type": "code",
   "execution_count": 11,
   "id": "b0389312-0897-41ec-a38f-7cad79071781",
   "metadata": {},
   "outputs": [
    {
     "data": {
      "text/plain": [
       "35"
      ]
     },
     "execution_count": 11,
     "metadata": {},
     "output_type": "execute_result"
    }
   ],
   "source": [
    "len(label_counts)"
   ]
  },
  {
   "cell_type": "code",
   "execution_count": 12,
   "id": "866a2e74-4259-4107-a5f4-1422a33c54f4",
   "metadata": {},
   "outputs": [],
   "source": [
    "new_labels = []\n",
    "for label in labels:\n",
    "    if label in filtered_labels:\n",
    "        new_labels.append(label)\n",
    "    else:\n",
    "        new_labels.append('other')\n",
    "        \n"
   ]
  },
  {
   "cell_type": "code",
   "execution_count": 13,
   "id": "8bd0cad2-f447-4959-a667-e47dece24579",
   "metadata": {},
   "outputs": [
    {
     "data": {
      "text/plain": [
       "Counter({'Brown Woodland Warbler': 225,\n",
       "         'other': 65,\n",
       "         'Chestnut-throated Apalis': 26,\n",
       "         'Yellow-whiskered Greenbul': 24,\n",
       "         'White-starred Robin': 16,\n",
       "         'Red-fronted Parrot': 16,\n",
       "         'Cinnamon Bracken Warbler': 14,\n",
       "         'Mountain Yellow Warbler': 14,\n",
       "         'Montane White-eye': 12,\n",
       "         \"Hartlaub's Turaco\": 12})"
      ]
     },
     "execution_count": 13,
     "metadata": {},
     "output_type": "execute_result"
    }
   ],
   "source": [
    "Counter(new_labels)"
   ]
  },
  {
   "cell_type": "code",
   "execution_count": 14,
   "id": "1055daf6-1335-4dec-b1db-4c4dd72ce88a",
   "metadata": {},
   "outputs": [
    {
     "data": {
      "text/plain": [
       "10"
      ]
     },
     "execution_count": 14,
     "metadata": {},
     "output_type": "execute_result"
    }
   ],
   "source": [
    "len(Counter(new_labels))"
   ]
  },
  {
   "cell_type": "markdown",
   "id": "ac6c8bfc-e334-4f14-833c-22df01dc8ee4",
   "metadata": {},
   "source": [
    "# MLP Example - Figure 8 Confusion Matrix"
   ]
  },
  {
   "cell_type": "code",
   "execution_count": 15,
   "id": "52052e3a-6c34-4385-a104-77fa75a05a21",
   "metadata": {},
   "outputs": [],
   "source": [
    "X_train, X_test, y_train, y_test = train_test_split(mean_embeddings, new_labels, test_size=0.2, random_state=123)"
   ]
  },
  {
   "cell_type": "code",
   "execution_count": 16,
   "id": "32203067-20df-4226-82e2-c1f0bb873cc6",
   "metadata": {},
   "outputs": [
    {
     "data": {
      "text/plain": [
       "Counter({'Brown Woodland Warbler': 52,\n",
       "         'other': 11,\n",
       "         'Mountain Yellow Warbler': 4,\n",
       "         'Chestnut-throated Apalis': 4,\n",
       "         'Red-fronted Parrot': 4,\n",
       "         'Yellow-whiskered Greenbul': 3,\n",
       "         'Montane White-eye': 3,\n",
       "         'White-starred Robin': 2,\n",
       "         'Cinnamon Bracken Warbler': 1,\n",
       "         \"Hartlaub's Turaco\": 1})"
      ]
     },
     "execution_count": 16,
     "metadata": {},
     "output_type": "execute_result"
    }
   ],
   "source": [
    "Counter(y_test)"
   ]
  },
  {
   "cell_type": "code",
   "execution_count": 17,
   "id": "e82448c1-19bb-4105-af02-a133bc258c72",
   "metadata": {},
   "outputs": [],
   "source": [
    "classifier = MLPClassifier(random_state=1, max_iter=1000, hidden_layer_sizes=(200,100))\n",
    "y_score = classifier.fit(X_train, y_train).predict_proba(X_test)"
   ]
  },
  {
   "cell_type": "code",
   "execution_count": 18,
   "id": "649b5b90-50a0-42fd-bd19-b495358eeb34",
   "metadata": {},
   "outputs": [
    {
     "name": "stdout",
     "output_type": "stream",
     "text": [
      "Macro-averaged One-vs-Rest ROC AUC score:\n",
      "0.93\n"
     ]
    }
   ],
   "source": [
    "macro_roc_auc_ovr = roc_auc_score(\n",
    "    y_test,\n",
    "    y_score,\n",
    "    multi_class=\"ovr\",\n",
    "    average=\"macro\",\n",
    ")\n",
    "\n",
    "print(f\"Macro-averaged One-vs-Rest ROC AUC score:\\n{macro_roc_auc_ovr:.2f}\")\n"
   ]
  },
  {
   "cell_type": "code",
   "execution_count": 19,
   "id": "59373d31-a611-4df2-bf16-669ea5ff8f70",
   "metadata": {},
   "outputs": [],
   "source": [
    "y_pred = classifier.predict(X_test)\n",
    "accuracy = accuracy_score(y_test, y_pred)"
   ]
  },
  {
   "cell_type": "code",
   "execution_count": 20,
   "id": "a260594f-c5fc-4b86-8286-3342f49085d6",
   "metadata": {},
   "outputs": [
    {
     "data": {
      "text/plain": [
       "0.7647058823529411"
      ]
     },
     "execution_count": 20,
     "metadata": {},
     "output_type": "execute_result"
    }
   ],
   "source": [
    "accuracy"
   ]
  },
  {
   "cell_type": "code",
   "execution_count": 21,
   "id": "38afe6bd-eb20-49df-a4f1-a36d72f1dbc3",
   "metadata": {},
   "outputs": [],
   "source": [
    "species_codes = []\n",
    "for cl in classifier.classes_:\n",
    "    names = cl.split()\n",
    "    if len(names) == 2:\n",
    "        species_codes.append(names[0][:2].upper() + names[1][:2].upper()) \n",
    "    elif len(names) == 3:\n",
    "        species_codes.append(names[0][:1].upper() + names[1][:1].upper() + names[2][:2].upper())\n",
    "    else:\n",
    "        species_codes.append(cl)"
   ]
  },
  {
   "cell_type": "code",
   "execution_count": 22,
   "id": "c58aa116-c2ed-42d6-93f4-90c8d452da77",
   "metadata": {},
   "outputs": [
    {
     "data": {
      "image/png": "[encoded data removed]",
      "text/plain": [
       "<Figure size 640x480 with 2 Axes>"
      ]
     },
     "metadata": {},
     "output_type": "display_data"
    }
   ],
   "source": [
    "cm = confusion_matrix(y_test, y_pred, labels=classifier.classes_)\n",
    "\n",
    "# Display the confusion matrix\n",
    "disp = ConfusionMatrixDisplay(confusion_matrix=cm, display_labels=species_codes)\n",
    "disp.plot(cmap=plt.cm.Blues)\n",
    "plt.xticks(rotation=90)\n",
    "plt.tight_layout()\n",
    "plt.savefig('cm-mlp.jpg', dpi=300)"
   ]
  },
  {
   "cell_type": "markdown",
   "id": "ae737816-a103-426a-bb85-6efd489068be",
   "metadata": {},
   "source": [
    "# Logistic Regression\n",
    "\n",
    "We determine the performance with logistic regression for 100 trials. The results are in Table 10."
   ]
  },
  {
   "cell_type": "code",
   "execution_count": 23,
   "id": "59f4a5b7-8225-49c5-bb91-4c81474f965e",
   "metadata": {},
   "outputs": [
    {
     "name": "stdout",
     "output_type": "stream",
     "text": [
      "Mean AUC: 0.9142015361238287, Mean Accuracy 0.7\n"
     ]
    }
   ],
   "source": [
    "num_trial = 2\n",
    "trial = 0\n",
    "classifier = LogisticRegression(max_iter=500)\n",
    "np.random.seed(123)\n",
    "\n",
    "lr_auc = []\n",
    "lr_acc = []\n",
    "while trial < num_trial:\n",
    "    X_train, X_test, y_train, y_test = train_test_split(mean_embeddings, new_labels, test_size=0.2)\n",
    "\n",
    "    if len(Counter(y_test)) == len(Counter(new_labels)) and len(Counter(y_train)) == len(Counter(new_labels)):\n",
    "        y_score = classifier.fit(X_train, y_train).predict_proba(X_test)\n",
    "        macro_roc_auc_ovr = roc_auc_score(\n",
    "                                y_test,\n",
    "                                y_score,\n",
    "                                multi_class=\"ovr\",\n",
    "                                average=\"macro\",\n",
    "                            )\n",
    "                            \n",
    "        #print(f\"Macro-averaged One-vs-Rest ROC AUC score:\\n{macro_roc_auc_ovr:.2f}\")\n",
    "        \n",
    "        y_pred = classifier.predict(X_test)\n",
    "        accuracy = accuracy_score(y_test, y_pred)\n",
    "\n",
    "        lr_auc.append(macro_roc_auc_ovr)\n",
    "        lr_acc.append(accuracy)\n",
    "\n",
    "        trial += 1\n",
    "\n",
    "print('Mean AUC: {}, Mean Accuracy {}'.format(np.mean(lr_auc), np.mean(lr_acc)))\n",
    "        "
   ]
  },
  {
   "cell_type": "markdown",
   "id": "0e6bb2bf-d557-48f9-a07f-93e39e57efb5",
   "metadata": {},
   "source": [
    "# MLP\n",
    "\n",
    "We determine the performance with a multilayer perceptron for 100 trials. The results are in Table 10."
   ]
  },
  {
   "cell_type": "code",
   "execution_count": 24,
   "id": "5ac19041-802b-41f7-8abc-8cb601704d3e",
   "metadata": {},
   "outputs": [
    {
     "name": "stdout",
     "output_type": "stream",
     "text": [
      "Mean AUC: 0.8939626580085662, Mean Accuracy 0.6876470588235293\n"
     ]
    }
   ],
   "source": [
    "num_trial = 20\n",
    "trial = 0\n",
    "classifier = MLPClassifier(random_state=1, max_iter=1000, hidden_layer_sizes=(200,100))\n",
    "np.random.seed(123)\n",
    "\n",
    "mlp_auc = []\n",
    "mlp_acc = []\n",
    "while trial < num_trial:\n",
    "    X_train, X_test, y_train, y_test = train_test_split(mean_embeddings, new_labels, test_size=0.2)\n",
    "\n",
    "    if len(Counter(y_test)) == len(Counter(new_labels)) and len(Counter(y_train)) == len(Counter(new_labels)):\n",
    "        y_score = classifier.fit(X_train, y_train).predict_proba(X_test)\n",
    "        macro_roc_auc_ovr = roc_auc_score(\n",
    "                                y_test,\n",
    "                                y_score,\n",
    "                                multi_class=\"ovr\",\n",
    "                                average=\"macro\",\n",
    "                            )\n",
    "                            \n",
    "        #print(f\"Macro-averaged One-vs-Rest ROC AUC score:\\n{macro_roc_auc_ovr:.2f}\")\n",
    "        \n",
    "        y_pred = classifier.predict(X_test)\n",
    "        accuracy = accuracy_score(y_test, y_pred)\n",
    "\n",
    "        mlp_auc.append(macro_roc_auc_ovr)\n",
    "        mlp_acc.append(accuracy)\n",
    "\n",
    "        trial += 1\n",
    "\n",
    "print('Mean AUC: {}, Mean Accuracy {}'.format(np.mean(mlp_auc), np.mean(mlp_acc)))\n",
    "        "
   ]
  },
  {
   "cell_type": "code",
   "execution_count": null,
   "id": "9ca13a2d-724b-4f0d-aca3-4a9fe1fe1837",
   "metadata": {},
   "outputs": [],
   "source": []
  }
 ],
 "metadata": {
  "kernelspec": {
   "display_name": "Python 3 (ipykernel)",
   "language": "python",
   "name": "python3"
  },
  "language_info": {
   "codemirror_mode": {
    "name": "ipython",
    "version": 3
   },
   "file_extension": ".py",
   "mimetype": "text/x-python",
   "name": "python",
   "nbconvert_exporter": "python",
   "pygments_lexer": "ipython3",
   "version": "3.11.2"
  }
 },
 "nbformat": 4,
 "nbformat_minor": 5
}
