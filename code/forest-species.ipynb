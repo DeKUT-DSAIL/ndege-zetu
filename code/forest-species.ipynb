{
 "cells": [
  {
   "cell_type": "markdown",
   "id": "fea78588-cb40-42fe-a4ce-f449829a0f06",
   "metadata": {},
   "source": [
    "# Forest Species Analysis\n",
    "\n",
    "We examined the presence of forest specialist species captured using point counts (PC), autonomous recording units (ARU) and citizen science (Kenya Bird Map (KBM)) at DeKUWC and MKNP. Forest dependency is a measure of the relative condition of the forest. Using the list of forest species from Kenya and Uganda and the classification of species as forest specialists (FF), forest generalists (F) or forest visitors (f), we classify the observed species as either FF, F or f."
   ]
  },
  {
   "cell_type": "code",
   "execution_count": 1,
   "id": "d68e5bb0-5f96-420c-a548-49fc5a278b65",
   "metadata": {},
   "outputs": [],
   "source": [
    "import os\n",
    "import random\n",
    "import numpy as np\n",
    "import pandas as pd\n",
    "import scipy \n",
    "\n",
    "from scipy import stats\n",
    "\n",
    "import matplotlib.pyplot as plt\n",
    "\n",
    "from matplotlib_venn import venn2, venn3"
   ]
  },
  {
   "cell_type": "code",
   "execution_count": 2,
   "id": "55b25e39-7fa5-49be-bceb-99f43af404af",
   "metadata": {},
   "outputs": [],
   "source": [
    "# Kenyan Species\n",
    "\n",
    "# scientific names\n",
    "df_sp = pd.read_csv('../annotations/Kenya-Species-List.csv')\n",
    "# common name\n",
    "kenyan_sp_cn = list(df_sp['Common Name'])\n",
    "# scientific name\n",
    "kenyan_sp_sn = list(df_sp['Scientific Name'])\n",
    "\n",
    "\n",
    "# Forest Species\n",
    "forest_df = pd.read_csv('../annotations/forest-birds-KE-UG.csv')"
   ]
  },
  {
   "cell_type": "code",
   "execution_count": 3,
   "id": "b75547b1-2c50-4a6c-8651-3ca349ba7ba1",
   "metadata": {},
   "outputs": [],
   "source": [
    "np.random.seed(1234)\n",
    "random.seed(1234)"
   ]
  },
  {
   "cell_type": "code",
   "execution_count": 4,
   "id": "391b3508-a6eb-4f98-92db-a64b9b0d88fb",
   "metadata": {},
   "outputs": [],
   "source": [
    "def species_from_df(df):\n",
    "    sps = []\n",
    "    for i in range(len(df)):\n",
    "        if not pd.isna(df.iloc[i]['Foreground Species']):\n",
    "            sps += df.iloc[i]['Foreground Species'].split(';')\n",
    "        if not pd.isna(df.iloc[i]['Background Species']):\n",
    "            sps += df.iloc[i]['Background Species'].split(';')\n",
    "    return list(set(sps))\n"
   ]
  },
  {
   "cell_type": "code",
   "execution_count": 5,
   "id": "1b67dd6e-910d-4f76-9618-a23b34bf0d85",
   "metadata": {},
   "outputs": [],
   "source": [
    "def forest_species(species_list):\n",
    "    FF = 0\n",
    "    F = 0\n",
    "    f = 0\n",
    "    other = 0\n",
    "    \n",
    "    specialists = []\n",
    "    generalists = []\n",
    "    visitors = []\n",
    "    \n",
    "    for sp in species_list:\n",
    "        curr_df = forest_df[forest_df['Scientific name']==sp]\n",
    "        if len(curr_df):\n",
    "            #print(curr_df.iloc[0]['English name'], curr_df.iloc[0]['Cat'], curr_df.iloc[0]['Dist'])\n",
    "            if curr_df.iloc[0]['Cat'] == 'FF':\n",
    "                FF += 1\n",
    "                specialists.append(sp)\n",
    "            elif curr_df.iloc[0]['Cat'] == 'F':\n",
    "                F += 1\n",
    "                generalists.append(sp)\n",
    "            elif curr_df.iloc[0]['Cat'] == 'f':\n",
    "                f += 1\n",
    "                visitors.append(sp)\n",
    "        else:\n",
    "            #print(sp, '*****')\n",
    "            other += 1\n",
    "    total = FF+F+f+other\n",
    "    print('FF = {}, F = {}, f = {}, other = {}, Total = {}'.format(FF, F, f, other, total))\n",
    "    print('FF = {}, F = {}, f = {}, other = {}'.format(FF / total, F / total, f / total, other / total))\n",
    "\n",
    "    return specialists, generalists, visitors"
   ]
  },
  {
   "cell_type": "markdown",
   "id": "28c0c3f3-71b7-4312-a340-10929af17e2d",
   "metadata": {},
   "source": [
    "# MKNP"
   ]
  },
  {
   "cell_type": "code",
   "execution_count": 6,
   "id": "8d3de693-b353-4794-aa92-c9852a18ceee",
   "metadata": {},
   "outputs": [],
   "source": [
    "# MKNP\n",
    "mknp_pc = pd.read_csv('../annotations/mknp-pc-2017-2018.csv')\n",
    "mknp_pc_species = list(mknp_pc['Unnamed: 0'])"
   ]
  },
  {
   "cell_type": "code",
   "execution_count": 7,
   "id": "b31dac92-ecee-44d2-a78d-7780d3515d7d",
   "metadata": {},
   "outputs": [
    {
     "name": "stdout",
     "output_type": "stream",
     "text": [
      "FF = 13, F = 12, f = 5, other = 18, Total = 48\n",
      "FF = 0.2708333333333333, F = 0.25, f = 0.10416666666666667, other = 0.375\n"
     ]
    }
   ],
   "source": [
    "mknp_pc_species_sn = [kenyan_sp_sn[kenyan_sp_cn.index(sp)] for indx, sp in enumerate(mknp_pc_species)]\n",
    "mknp_s_pc, mknp_g_pc, mknp_v_pc = forest_species(mknp_pc_species_sn)"
   ]
  },
  {
   "cell_type": "code",
   "execution_count": 8,
   "id": "d004003c-7349-45fd-a69b-ea21feed7b0d",
   "metadata": {},
   "outputs": [
    {
     "name": "stdout",
     "output_type": "stream",
     "text": [
      "FF = 5, F = 10, f = 5, other = 15, Total = 35\n",
      "FF = 0.14285714285714285, F = 0.2857142857142857, f = 0.14285714285714285, other = 0.42857142857142855\n"
     ]
    }
   ],
   "source": [
    "# mknp audio\n",
    "mknp_aru = pd.read_csv('../annotations/mknp-aru-2017-2018.csv')\n",
    "mknp_aru_species = species_from_df(mknp_aru)\n",
    "\n",
    "mknp_aru_species_sn = [kenyan_sp_sn[kenyan_sp_cn.index(sp)] for indx, sp in enumerate(mknp_aru_species)]\n",
    "mknp_s_aru, mknp_g_aru, mknp_v_aru = forest_species(mknp_aru_species_sn)"
   ]
  },
  {
   "cell_type": "code",
   "execution_count": 9,
   "id": "b2c749c1-20cb-4934-ad51-44c3a103aff6",
   "metadata": {},
   "outputs": [
    {
     "name": "stdout",
     "output_type": "stream",
     "text": [
      "FF = 20, F = 19, f = 16, other = 70, Total = 125\n",
      "FF = 0.16, F = 0.152, f = 0.128, other = 0.56\n"
     ]
    }
   ],
   "source": [
    "# mknp kbm\n",
    "mknp_kbm = pd.read_csv('../annotations/mknp-kbm.csv')\n",
    "mknp_kbm_species = list(mknp_kbm['Unnamed: 0'])\n",
    "\n",
    "mknp_kbm_species_sn = [kenyan_sp_sn[kenyan_sp_cn.index(sp)] for indx, sp in enumerate(mknp_kbm_species)]\n",
    "mknp_s_kbm, mknp_g_kbm, mknp_v_kbm = forest_species(mknp_kbm_species_sn)"
   ]
  },
  {
   "cell_type": "markdown",
   "id": "dc2ecc8b-617b-4ade-9759-d556b046a3fc",
   "metadata": {},
   "source": [
    "# DeKUWC"
   ]
  },
  {
   "cell_type": "code",
   "execution_count": 10,
   "id": "c9d45f1c-9e3c-4720-9382-76c5d3676585",
   "metadata": {},
   "outputs": [
    {
     "name": "stdout",
     "output_type": "stream",
     "text": [
      "FF = 3, F = 9, f = 10, other = 35, Total = 57\n",
      "FF = 0.05263157894736842, F = 0.15789473684210525, f = 0.17543859649122806, other = 0.6140350877192983\n"
     ]
    }
   ],
   "source": [
    "dekuwc_pc = pd.read_csv('../annotations/dekuwc-pc-2017.csv')\n",
    "dekuwc_pc_species = list(dekuwc_pc['Unnamed: 0'])\n",
    "\n",
    "dekuwc_pc_species_sn = [kenyan_sp_sn[kenyan_sp_cn.index(sp)] for indx, sp in enumerate(dekuwc_pc_species)]\n",
    "dekuwc_s_pc, dekuwc_g_pc, dekuwc_v_pc = forest_species(dekuwc_pc_species_sn)"
   ]
  },
  {
   "cell_type": "code",
   "execution_count": 11,
   "id": "72c029d7-4692-4c4d-bdd8-b77f947e4e43",
   "metadata": {},
   "outputs": [
    {
     "name": "stdout",
     "output_type": "stream",
     "text": [
      "FF = 7, F = 17, f = 19, other = 46, Total = 89\n",
      "FF = 0.07865168539325842, F = 0.19101123595505617, f = 0.21348314606741572, other = 0.5168539325842697\n"
     ]
    }
   ],
   "source": [
    "pfiles = os.listdir('../annotations/')\n",
    "# audio \n",
    "dekuwc_audio_species = []\n",
    "for pfile in pfiles:\n",
    "    if 'pc' not in pfile and 'kbm' not in pfile and 'dekuwc' in pfile and pfile.endswith('csv'):\n",
    "        df = pd.read_csv(os.path.join('../annotations/', pfile))\n",
    "        dekuwc_audio_species += species_from_df(df)\n",
    "\n",
    "dekuwc_audio_species = list(set(dekuwc_audio_species))\n",
    "dekuwc_audio_species.sort()\n",
    "\n",
    "dekuwc_audio_species_sn = [kenyan_sp_sn[kenyan_sp_cn.index(sp)] for indx, sp in enumerate(dekuwc_audio_species)]\n",
    "dekuwc_s_aru, dekuwc_g_aru, dekuwc_v_aru = forest_species(dekuwc_audio_species_sn)"
   ]
  },
  {
   "cell_type": "code",
   "execution_count": 12,
   "id": "98a3b3cb-7f55-43a9-a3b2-9344d4507028",
   "metadata": {},
   "outputs": [
    {
     "name": "stdout",
     "output_type": "stream",
     "text": [
      "FF = 17, F = 19, f = 21, other = 167, Total = 224\n",
      "FF = 0.07589285714285714, F = 0.08482142857142858, f = 0.09375, other = 0.7455357142857143\n"
     ]
    }
   ],
   "source": [
    "dekuwc_kbm = pd.read_csv('../annotations/dekuwc-kbm.csv')\n",
    "dekuwc_kbm_species = list(dekuwc_kbm['Unnamed: 0'])\n",
    "\n",
    "dekuwc_kbm_species_sn = [kenyan_sp_sn[kenyan_sp_cn.index(sp)] for indx, sp in enumerate(dekuwc_kbm_species)]\n",
    "dekuwc_s_kbm, dekuwc_g_kbm, dekuwc_v_kbm = forest_species(dekuwc_kbm_species_sn)"
   ]
  },
  {
   "cell_type": "markdown",
   "id": "1c50efc2-33a7-428a-a7b4-4995b0a4d323",
   "metadata": {},
   "source": [
    "# Figure 7"
   ]
  },
  {
   "cell_type": "code",
   "execution_count": 13,
   "id": "e8251764-2905-4c34-9c09-eb4ca29ce758",
   "metadata": {},
   "outputs": [
    {
     "data": {
      "image/png": "[encoded data removed]",
      "text/plain": [
       "<Figure size 1000x600 with 1 Axes>"
      ]
     },
     "metadata": {},
     "output_type": "display_data"
    }
   ],
   "source": [
    "# Example data\n",
    "categories = ['DeKUWC', 'MKNP']\n",
    "subcategories = ['FF', 'F', 'f']\n",
    "values1 = [\n",
    "    [len(dekuwc_s_pc), len(dekuwc_g_pc), len(dekuwc_v_pc)],\n",
    "    [len(mknp_s_pc), len(mknp_g_pc), len(mknp_v_pc)]\n",
    "   \n",
    "]\n",
    "values2 = [\n",
    "    [len(dekuwc_s_aru), len(dekuwc_g_aru), len(dekuwc_v_aru)],\n",
    "    [len(mknp_s_aru), len(mknp_g_aru), len(mknp_v_aru)]\n",
    "   \n",
    "]\n",
    "values3 = [\n",
    "    [len(dekuwc_s_kbm), len(dekuwc_g_kbm), len(dekuwc_v_kbm)],\n",
    "    [len(mknp_s_kbm), len(mknp_g_kbm), len(mknp_v_kbm)]\n",
    "   \n",
    "]\n",
    "\n",
    "# Setting the bar width\n",
    "bar_width = 0.2\n",
    "# Adjust the spacing between groups\n",
    "x = np.arange(len(categories)) * 1.1\n",
    "\n",
    "# Adding a small offset to separate bars within the group\n",
    "bar_offset = 0.05\n",
    "\n",
    "ticks = np.vstack((x - bar_width - bar_offset, x, x + bar_width + bar_offset)).flatten(order='F')\n",
    "\n",
    "# Plotting\n",
    "fig, ax = plt.subplots(figsize=(10, 6))\n",
    "\n",
    "# Colors for each stack\n",
    "colors = ['#FF9999', '#66B2FF', '#99FF99']\n",
    "colors = ['#0072B2', '#E69F00', '#009E73']\n",
    "colors = ['#0072B2', '#E69F00', '#009E73', '#D55E00']\n",
    "\n",
    "\n",
    "# Plotting the stacked bars for each subcategory with a small offset\n",
    "for i in range(len(subcategories)):\n",
    "    ax.bar(x - bar_width - bar_offset, [val[i] for val in values1], bar_width, color=colors[i], label=f'{subcategories[i]} - Group 1',\n",
    "           bottom=[sum(val[:i]) for val in values1])\n",
    "    ax.bar(x, [val[i] for val in values2], bar_width, color=colors[i], label=f'{subcategories[i]} - Group 2',\n",
    "           bottom=[sum(val[:i]) for val in values2])\n",
    "    ax.bar(x + bar_width + bar_offset, [val[i] for val in values3], bar_width, color=colors[i], label=f'{subcategories[i]} - Group 3',\n",
    "           bottom=[sum(val[:i]) for val in values3])\n",
    "\n",
    "# Adding labels and title\n",
    "#ax.set_xlabel('Site')\n",
    "ax.set_ylabel('Number of Species per Category')\n",
    "ax.set_title('Forest birds at DeKUWC and MKNP')\n",
    "ax.set_xticks(ticks)\n",
    "ax.set_xticklabels(['PC', 'ARU', 'KBM', 'PC', 'ARU', 'KBM'] )\n",
    "\n",
    "handles = [plt.Rectangle((0,0),1,1, color=colors[i]) for i in range(len(subcategories))]\n",
    "ax.legend(handles, subcategories)\n",
    "#ax.legend(['PC', 'ARU', 'KBM'])\n",
    "\n",
    "for i in range(len(categories)):\n",
    "    ax.text(x[i], -5, categories[i], ha='center', va='top')\n",
    "    \n",
    "\n",
    "\n",
    "plt.savefig('forest-birds.jpg', dpi=300)\n"
   ]
  }
 ],
 "metadata": {
  "kernelspec": {
   "display_name": "Python 3 (ipykernel)",
   "language": "python",
   "name": "python3"
  },
  "language_info": {
   "codemirror_mode": {
    "name": "ipython",
    "version": 3
   },
   "file_extension": ".py",
   "mimetype": "text/x-python",
   "name": "python",
   "nbconvert_exporter": "python",
   "pygments_lexer": "ipython3",
   "version": "3.10.13"
  }
 },
 "nbformat": 4,
 "nbformat_minor": 5
}
