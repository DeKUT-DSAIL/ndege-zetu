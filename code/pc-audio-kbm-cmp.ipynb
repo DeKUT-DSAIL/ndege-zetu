{
 "cells": [
  {
   "cell_type": "markdown",
   "id": "c9de9870-a11c-4d1a-ae2a-5f87da85e70d",
   "metadata": {},
   "source": [
    "# Ndege Zetu Data Analysis\n",
    "\n",
    "This notebook presents and analysis of audio recording annotations, point counts and citizen science data from two sites within the Mt Kenya ecosystem namely the Dedan Kimathi University Wildlife Conservancy (DeKUWC) and the Mt Kenya National Park (MKNP). The audio recordings were annotated by expert ornithologists.\n",
    "\n",
    "This notebook aims to ensure reproducability of results reported in ``Comparing point counts, passive acoustic monitoring, citizen science and machine learning for bird species monitoring in the Mt Kenya ecosystem''  submitted to Philosophical Transactions of the Royal Society B."
   ]
  },
  {
   "cell_type": "code",
   "execution_count": 1,
   "id": "d89bf086-5f75-4b71-bb86-3136c9263d11",
   "metadata": {},
   "outputs": [],
   "source": [
    "import os\n",
    "import random\n",
    "import numpy as np\n",
    "import pandas as pd\n",
    "import scipy \n",
    "\n",
    "from scipy import stats\n",
    "\n",
    "import matplotlib.pyplot as plt"
   ]
  },
  {
   "cell_type": "code",
   "execution_count": 2,
   "id": "48970141-b71e-4664-8a5f-44994ca4c358",
   "metadata": {},
   "outputs": [],
   "source": [
    "# set the seed for reproducability\n",
    "np.random.seed(1234)\n",
    "random.seed(1234)"
   ]
  },
  {
   "cell_type": "code",
   "execution_count": 3,
   "id": "785a7f30-2830-4c33-b8bc-e651e2aff4a5",
   "metadata": {},
   "outputs": [],
   "source": [
    "def species_from_df(df):\n",
    "    '''\n",
    "    This function extracts species from the audio annotation files\n",
    "    '''\n",
    "    sps = []\n",
    "    for i in range(len(df)):\n",
    "        if not pd.isna(df.iloc[i]['Foreground Species']):\n",
    "            sps += df.iloc[i]['Foreground Species'].split(';')\n",
    "        if not pd.isna(df.iloc[i]['Background Species']):\n",
    "            sps += df.iloc[i]['Background Species'].split(';')\n",
    "    return list(set(sps))\n"
   ]
  },
  {
   "cell_type": "code",
   "execution_count": 4,
   "id": "c100ba6c-02a2-4e04-ac9b-ffbe86f81812",
   "metadata": {},
   "outputs": [],
   "source": [
    "# scientific names\n",
    "df_sp = pd.read_csv('../annotations/Kenya-Species-List.csv')\n",
    "# common name\n",
    "kenyan_sp_cn = list(df_sp['Common Name'])\n",
    "# scientific name\n",
    "kenyan_sp_sn = list(df_sp['Scientific Name'])"
   ]
  },
  {
   "cell_type": "markdown",
   "id": "83908890-387d-4b8b-a55b-1af12c081299",
   "metadata": {},
   "source": [
    "# MKNP\n",
    "We obtain the MKNP data for comparison of the three methods namely point counts (PC), autonomous recording units (ARU) and citizen science (Kenya Bird Map (KBM)). We determine relative abundance and use this for statistical comparison."
   ]
  },
  {
   "cell_type": "code",
   "execution_count": 5,
   "id": "f0f052db-cdd4-42e9-89f9-bec785901b62",
   "metadata": {},
   "outputs": [],
   "source": [
    "# MKNP PC Data\n",
    "mknp_pc = pd.read_csv('../annotations/mknp-pc-2017-2018.csv')\n",
    "mknp_pc_species = list(mknp_pc['Unnamed: 0'])\n",
    "mknp_pc_mtx = mknp_pc[mknp_pc.keys()[1:]].to_numpy()\n",
    "# frequency of occurence (foo) \n",
    "foo_pc = np.mean(mknp_pc_mtx, axis = 1)"
   ]
  },
  {
   "cell_type": "code",
   "execution_count": 6,
   "id": "324b2545-cb05-4f8d-bc4e-b76abd1d8761",
   "metadata": {},
   "outputs": [],
   "source": [
    "# MKNP KBM Data\n",
    "mknp_kbm = pd.read_csv('../annotations/mknp-kbm.csv')\n",
    "mknp_kbm_species = list(mknp_kbm['Unnamed: 0'])\n",
    "mknp_kbm_mtx = mknp_kbm[mknp_kbm.keys()[1:]].to_numpy()\n",
    "# frequency of occurence (foo) \n",
    "foo_kbm = np.mean(mknp_kbm_mtx, axis = 1)\n"
   ]
  },
  {
   "cell_type": "code",
   "execution_count": 7,
   "id": "ddfe39a9-9a53-41bf-aeea-79adacfe62e0",
   "metadata": {},
   "outputs": [],
   "source": [
    "# MKNP KBM Data\n",
    "# get all species\n",
    "mknp_aru = pd.read_csv('../annotations/mknp-aru-2017-2018.csv')\n",
    "mknp_aru_species = species_from_df(mknp_aru)"
   ]
  },
  {
   "cell_type": "code",
   "execution_count": 8,
   "id": "b10358fb-a41c-4cbb-add8-c399b1ddddb2",
   "metadata": {},
   "outputs": [],
   "source": [
    "all_mknp_species = list(set(mknp_pc_species + mknp_aru_species + mknp_kbm_species))\n",
    "all_mknp_species.sort()"
   ]
  },
  {
   "cell_type": "markdown",
   "id": "8e25e9f8-6156-4a25-9a4f-5bf6be86ae5c",
   "metadata": {},
   "source": [
    "## MKNP Species Richness\n",
    "We obtain the species richness. These data are in Table 2 of the paper."
   ]
  },
  {
   "cell_type": "code",
   "execution_count": 9,
   "id": "8387b700-3e2e-460e-a201-2e71dd216329",
   "metadata": {},
   "outputs": [
    {
     "name": "stdout",
     "output_type": "stream",
     "text": [
      "MKNP Species Richness: PC 48, ARU 35, KBM 125 Total 144\n"
     ]
    }
   ],
   "source": [
    "print('MKNP Species Richness: PC {}, ARU {}, KBM {} Total {}'.format(len(mknp_pc_species),\n",
    "                                                                  len(mknp_aru_species),\n",
    "                                                                  len(mknp_kbm_species),\n",
    "                                                                  len(all_mknp_species)))"
   ]
  },
  {
   "cell_type": "code",
   "execution_count": 10,
   "id": "6955427f-9cf5-422d-8489-f29677d1f33e",
   "metadata": {},
   "outputs": [],
   "source": [
    "all_mknp_species_sn = [kenyan_sp_sn[kenyan_sp_cn.index(sp)] for indx, sp in enumerate(all_mknp_species)]"
   ]
  },
  {
   "cell_type": "markdown",
   "id": "4dd9a176-e322-46ee-bce4-9bd8670a35d7",
   "metadata": {},
   "source": [
    "## Comparison of relative abundace\n",
    "\n",
    "We use frequency of occurence to compare the relative abundance of species reported in the study by various methods. To compare PC and ARU, we simulate equal effort by sampling 10 recordings and treating them as equivalent to one point count."
   ]
  },
  {
   "cell_type": "code",
   "execution_count": 11,
   "id": "42d72095-b8a4-4f17-8bc3-ed19a05ff5eb",
   "metadata": {},
   "outputs": [],
   "source": [
    "# generate random PC\n",
    "num_simulated_pc = 60\n",
    "recordings_per_pc = 10 # similate 10 minute point count\n",
    "aru_sim_pc = np.zeros((len(all_mknp_species), num_simulated_pc))"
   ]
  },
  {
   "cell_type": "code",
   "execution_count": 12,
   "id": "a926e099-1027-4001-b41d-768fd7b597d7",
   "metadata": {},
   "outputs": [],
   "source": [
    "for i in range(num_simulated_pc):\n",
    "    pc_df = mknp_aru.iloc[random.sample(range(len(mknp_aru)), recordings_per_pc)]\n",
    "    pc_sps = species_from_df(pc_df)\n",
    "\n",
    "    for pc_sp in pc_sps:\n",
    "        aru_sim_pc[all_mknp_species.index(pc_sp), i] += 1\n",
    "        "
   ]
  },
  {
   "cell_type": "code",
   "execution_count": 13,
   "id": "f2c7ec1d-ee0c-4aa6-a787-2a2a24fc0c4a",
   "metadata": {},
   "outputs": [],
   "source": [
    "foo_aru_mknp = np.mean(aru_sim_pc, axis=1)\n",
    "foo_pc_mknp = np.zeros(len(all_mknp_species))\n",
    "foo_kbm_mknp = np.zeros(len(all_mknp_species))"
   ]
  },
  {
   "cell_type": "code",
   "execution_count": 14,
   "id": "54568956-730a-4748-9b85-00fe1ccc1a4c",
   "metadata": {},
   "outputs": [],
   "source": [
    "for indx, sp in enumerate(mknp_pc_species):\n",
    "    foo_pc_mknp[all_mknp_species.index(sp)] = foo_pc[indx]\n",
    "\n",
    "for indx, sp in enumerate(mknp_kbm_species):\n",
    "    foo_kbm_mknp[all_mknp_species.index(sp)] = foo_kbm[indx]"
   ]
  },
  {
   "cell_type": "markdown",
   "id": "cb1be27b-620c-4cdc-94a8-5c3c792ea8a3",
   "metadata": {},
   "source": [
    "### Table 7 \n",
    "\n",
    "The table below shows the frequency of occurence for the top 20 species according to PC for MKNP. It is Table 7 in the paper"
   ]
  },
  {
   "cell_type": "code",
   "execution_count": 15,
   "id": "7bb50150-23e3-4793-92dc-3f8e4e5bb2ed",
   "metadata": {},
   "outputs": [
    {
     "data": {
      "text/html": [
       "<div>\n",
       "<style scoped>\n",
       "    .dataframe tbody tr th:only-of-type {\n",
       "        vertical-align: middle;\n",
       "    }\n",
       "\n",
       "    .dataframe tbody tr th {\n",
       "        vertical-align: top;\n",
       "    }\n",
       "\n",
       "    .dataframe thead th {\n",
       "        text-align: right;\n",
       "    }\n",
       "</style>\n",
       "<table border=\"1\" class=\"dataframe\">\n",
       "  <thead>\n",
       "    <tr style=\"text-align: right;\">\n",
       "      <th></th>\n",
       "      <th>Scientific Name</th>\n",
       "      <th>Common Name</th>\n",
       "      <th>Point Count</th>\n",
       "      <th>ARU</th>\n",
       "      <th>KBM</th>\n",
       "    </tr>\n",
       "  </thead>\n",
       "  <tbody>\n",
       "    <tr>\n",
       "      <th>30</th>\n",
       "      <td>Phylloscopus umbrovirens</td>\n",
       "      <td>Brown Woodland Warbler</td>\n",
       "      <td>0.650000</td>\n",
       "      <td>1.000000</td>\n",
       "      <td>0.416667</td>\n",
       "    </tr>\n",
       "    <tr>\n",
       "      <th>38</th>\n",
       "      <td>Apalis porphyrolaema</td>\n",
       "      <td>Chestnut-throated Apalis</td>\n",
       "      <td>0.533333</td>\n",
       "      <td>0.866667</td>\n",
       "      <td>0.666667</td>\n",
       "    </tr>\n",
       "    <tr>\n",
       "      <th>76</th>\n",
       "      <td>Zosterops poliogastrus</td>\n",
       "      <td>Montane White-eye</td>\n",
       "      <td>0.500000</td>\n",
       "      <td>0.416667</td>\n",
       "      <td>0.000000</td>\n",
       "    </tr>\n",
       "    <tr>\n",
       "      <th>40</th>\n",
       "      <td>Bradypterus cinnamomeus</td>\n",
       "      <td>Cinnamon Bracken Warbler</td>\n",
       "      <td>0.450000</td>\n",
       "      <td>0.566667</td>\n",
       "      <td>0.583333</td>\n",
       "    </tr>\n",
       "    <tr>\n",
       "      <th>136</th>\n",
       "      <td>Pogonocichla stellata</td>\n",
       "      <td>White-starred Robin</td>\n",
       "      <td>0.366667</td>\n",
       "      <td>0.550000</td>\n",
       "      <td>0.500000</td>\n",
       "    </tr>\n",
       "    <tr>\n",
       "      <th>100</th>\n",
       "      <td>Poicephalus gulielmi</td>\n",
       "      <td>Red-fronted Parrot</td>\n",
       "      <td>0.283333</td>\n",
       "      <td>0.650000</td>\n",
       "      <td>0.583333</td>\n",
       "    </tr>\n",
       "    <tr>\n",
       "      <th>66</th>\n",
       "      <td>Tauraco hartlaubi</td>\n",
       "      <td>Hartlaub's Turaco</td>\n",
       "      <td>0.266667</td>\n",
       "      <td>0.300000</td>\n",
       "      <td>0.833333</td>\n",
       "    </tr>\n",
       "    <tr>\n",
       "      <th>82</th>\n",
       "      <td>Chloropeta similis</td>\n",
       "      <td>Mountain Yellow Warbler</td>\n",
       "      <td>0.233333</td>\n",
       "      <td>0.700000</td>\n",
       "      <td>0.416667</td>\n",
       "    </tr>\n",
       "    <tr>\n",
       "      <th>87</th>\n",
       "      <td>Cyanomitra olivacea</td>\n",
       "      <td>Olive Sunbird</td>\n",
       "      <td>0.133333</td>\n",
       "      <td>0.116667</td>\n",
       "      <td>0.250000</td>\n",
       "    </tr>\n",
       "    <tr>\n",
       "      <th>23</th>\n",
       "      <td>Psalidoprocne pristoptera</td>\n",
       "      <td>Black Saw-wing</td>\n",
       "      <td>0.116667</td>\n",
       "      <td>0.000000</td>\n",
       "      <td>0.000000</td>\n",
       "    </tr>\n",
       "    <tr>\n",
       "      <th>46</th>\n",
       "      <td>Stephanoaetus coronatus</td>\n",
       "      <td>Crowned Eagle</td>\n",
       "      <td>0.100000</td>\n",
       "      <td>0.116667</td>\n",
       "      <td>0.166667</td>\n",
       "    </tr>\n",
       "    <tr>\n",
       "      <th>39</th>\n",
       "      <td>Batis molitor</td>\n",
       "      <td>Chin-spot Batis</td>\n",
       "      <td>0.100000</td>\n",
       "      <td>0.000000</td>\n",
       "      <td>0.000000</td>\n",
       "    </tr>\n",
       "    <tr>\n",
       "      <th>131</th>\n",
       "      <td>Parus albiventris</td>\n",
       "      <td>White-bellied Tit</td>\n",
       "      <td>0.083333</td>\n",
       "      <td>0.000000</td>\n",
       "      <td>0.333333</td>\n",
       "    </tr>\n",
       "    <tr>\n",
       "      <th>43</th>\n",
       "      <td>Pycnonotus barbatus</td>\n",
       "      <td>Common Bulbul</td>\n",
       "      <td>0.083333</td>\n",
       "      <td>0.000000</td>\n",
       "      <td>0.250000</td>\n",
       "    </tr>\n",
       "    <tr>\n",
       "      <th>11</th>\n",
       "      <td>Pseudoalcippe abyssinica</td>\n",
       "      <td>African Hill Babbler</td>\n",
       "      <td>0.066667</td>\n",
       "      <td>0.000000</td>\n",
       "      <td>0.416667</td>\n",
       "    </tr>\n",
       "    <tr>\n",
       "      <th>35</th>\n",
       "      <td>Phyllastrephus cabanisi</td>\n",
       "      <td>Cabanis's Greenbul</td>\n",
       "      <td>0.066667</td>\n",
       "      <td>0.050000</td>\n",
       "      <td>0.166667</td>\n",
       "    </tr>\n",
       "    <tr>\n",
       "      <th>107</th>\n",
       "      <td>Schoutedenapus myoptilus</td>\n",
       "      <td>Scarce Swift</td>\n",
       "      <td>0.066667</td>\n",
       "      <td>0.000000</td>\n",
       "      <td>0.083333</td>\n",
       "    </tr>\n",
       "    <tr>\n",
       "      <th>6</th>\n",
       "      <td>Muscicapa adusta</td>\n",
       "      <td>African Dusky Flycatcher</td>\n",
       "      <td>0.066667</td>\n",
       "      <td>0.116667</td>\n",
       "      <td>0.750000</td>\n",
       "    </tr>\n",
       "    <tr>\n",
       "      <th>71</th>\n",
       "      <td>Chrysococcyx klaas</td>\n",
       "      <td>Klaas's Cuckoo</td>\n",
       "      <td>0.066667</td>\n",
       "      <td>0.000000</td>\n",
       "      <td>0.083333</td>\n",
       "    </tr>\n",
       "    <tr>\n",
       "      <th>48</th>\n",
       "      <td>Streptopelia lugens</td>\n",
       "      <td>Dusky Turtle Dove</td>\n",
       "      <td>0.050000</td>\n",
       "      <td>0.000000</td>\n",
       "      <td>0.166667</td>\n",
       "    </tr>\n",
       "  </tbody>\n",
       "</table>\n",
       "</div>"
      ],
      "text/plain": [
       "               Scientific Name               Common Name  Point Count  \\\n",
       "30    Phylloscopus umbrovirens    Brown Woodland Warbler     0.650000   \n",
       "38        Apalis porphyrolaema  Chestnut-throated Apalis     0.533333   \n",
       "76      Zosterops poliogastrus         Montane White-eye     0.500000   \n",
       "40     Bradypterus cinnamomeus  Cinnamon Bracken Warbler     0.450000   \n",
       "136      Pogonocichla stellata       White-starred Robin     0.366667   \n",
       "100       Poicephalus gulielmi        Red-fronted Parrot     0.283333   \n",
       "66           Tauraco hartlaubi         Hartlaub's Turaco     0.266667   \n",
       "82          Chloropeta similis   Mountain Yellow Warbler     0.233333   \n",
       "87         Cyanomitra olivacea             Olive Sunbird     0.133333   \n",
       "23   Psalidoprocne pristoptera            Black Saw-wing     0.116667   \n",
       "46     Stephanoaetus coronatus             Crowned Eagle     0.100000   \n",
       "39               Batis molitor           Chin-spot Batis     0.100000   \n",
       "131          Parus albiventris         White-bellied Tit     0.083333   \n",
       "43         Pycnonotus barbatus             Common Bulbul     0.083333   \n",
       "11    Pseudoalcippe abyssinica      African Hill Babbler     0.066667   \n",
       "35     Phyllastrephus cabanisi        Cabanis's Greenbul     0.066667   \n",
       "107   Schoutedenapus myoptilus              Scarce Swift     0.066667   \n",
       "6             Muscicapa adusta  African Dusky Flycatcher     0.066667   \n",
       "71          Chrysococcyx klaas            Klaas's Cuckoo     0.066667   \n",
       "48         Streptopelia lugens         Dusky Turtle Dove     0.050000   \n",
       "\n",
       "          ARU       KBM  \n",
       "30   1.000000  0.416667  \n",
       "38   0.866667  0.666667  \n",
       "76   0.416667  0.000000  \n",
       "40   0.566667  0.583333  \n",
       "136  0.550000  0.500000  \n",
       "100  0.650000  0.583333  \n",
       "66   0.300000  0.833333  \n",
       "82   0.700000  0.416667  \n",
       "87   0.116667  0.250000  \n",
       "23   0.000000  0.000000  \n",
       "46   0.116667  0.166667  \n",
       "39   0.000000  0.000000  \n",
       "131  0.000000  0.333333  \n",
       "43   0.000000  0.250000  \n",
       "11   0.000000  0.416667  \n",
       "35   0.050000  0.166667  \n",
       "107  0.000000  0.083333  \n",
       "6    0.116667  0.750000  \n",
       "71   0.000000  0.083333  \n",
       "48   0.000000  0.166667  "
      ]
     },
     "execution_count": 15,
     "metadata": {},
     "output_type": "execute_result"
    }
   ],
   "source": [
    "mknp_df = pd.DataFrame(zip(all_mknp_species_sn, all_mknp_species, foo_pc_mknp, foo_aru_mknp, foo_kbm_mknp), columns=['Scientific Name','Common Name', 'Point Count', 'ARU', 'KBM'])\n",
    "mknp_top = mknp_df.sort_values(by=['Point Count'], ascending=False)[:20]\n",
    "#print(mknp_top.to_latex(index=False,\n",
    "#                  formatters={\"name\": str.upper},\n",
    "#                  float_format=\"{:.2f}\".format,\n",
    "#)) \n",
    "mknp_top"
   ]
  },
  {
   "cell_type": "markdown",
   "id": "988a65be-667e-497b-ad5b-b6b831c86fc2",
   "metadata": {},
   "source": [
    "### Statistical Tests"
   ]
  },
  {
   "cell_type": "code",
   "execution_count": 16,
   "id": "0f50693c-dadd-4876-8ade-4c8ca61d7f92",
   "metadata": {},
   "outputs": [],
   "source": [
    "# pc vs aru\n",
    "mknp_pc_aru_species = list(set(mknp_pc_species + mknp_aru_species))\n",
    "index_of_interest = [sp in mknp_pc_aru_species for sp in all_mknp_species]\n"
   ]
  },
  {
   "cell_type": "code",
   "execution_count": 17,
   "id": "f21e8043-f0f4-4c12-82b7-5c62eab33a41",
   "metadata": {},
   "outputs": [
    {
     "data": {
      "text/plain": [
       "Text(0.5, 1.0, 'MKNP')"
      ]
     },
     "execution_count": 17,
     "metadata": {},
     "output_type": "execute_result"
    },
    {
     "data": {
      "image/png": "[encoded data removed]",
      "text/plain": [
       "<Figure size 640x480 with 1 Axes>"
      ]
     },
     "metadata": {},
     "output_type": "display_data"
    }
   ],
   "source": [
    "plt.hist(foo_pc_mknp[index_of_interest] - foo_aru_mknp[index_of_interest], 50, density=True);\n",
    "plt.xlabel(\"Difference\")\n",
    "plt.title(\"MKNP\")"
   ]
  },
  {
   "cell_type": "code",
   "execution_count": 18,
   "id": "c0dfcf9b-db7c-4597-9adc-5e3c7bd5c20e",
   "metadata": {},
   "outputs": [
    {
     "data": {
      "text/plain": [
       "KstestResult(statistic=0.4535621029950777, pvalue=3.5999369814371817e-12, statistic_location=0.11666666666666667, statistic_sign=1)"
      ]
     },
     "execution_count": 18,
     "metadata": {},
     "output_type": "execute_result"
    }
   ],
   "source": [
    "stats.kstest(foo_pc_mknp[index_of_interest] - foo_aru_mknp[index_of_interest],\n",
    "             stats.norm.cdf)"
   ]
  },
  {
   "cell_type": "code",
   "execution_count": 19,
   "id": "8c76f572-a540-4462-ae3a-fa6ae2e8ef68",
   "metadata": {},
   "outputs": [
    {
     "data": {
      "text/plain": [
       "62"
      ]
     },
     "execution_count": 19,
     "metadata": {},
     "output_type": "execute_result"
    }
   ],
   "source": [
    "sum(index_of_interest)"
   ]
  },
  {
   "cell_type": "code",
   "execution_count": 20,
   "id": "12394dc8-d2f3-40a0-a79a-4c7385b7304f",
   "metadata": {},
   "outputs": [
    {
     "data": {
      "text/plain": [
       "WilcoxonResult(statistic=626.0, pvalue=0.31248714205192574)"
      ]
     },
     "execution_count": 20,
     "metadata": {},
     "output_type": "execute_result"
    }
   ],
   "source": [
    "scipy.stats.wilcoxon(foo_pc_mknp[index_of_interest], foo_aru_mknp[index_of_interest])"
   ]
  },
  {
   "cell_type": "code",
   "execution_count": 21,
   "id": "aa5f24db-9ee9-4a17-909e-b1ceb874a3e8",
   "metadata": {},
   "outputs": [
    {
     "data": {
      "text/plain": [
       "KstestResult(statistic=0.4512842157443613, pvalue=2.3113066349577328e-26, statistic_location=0.05, statistic_sign=1)"
      ]
     },
     "execution_count": 21,
     "metadata": {},
     "output_type": "execute_result"
    }
   ],
   "source": [
    "# pc vs kbm\n",
    "mknp_pc_kbm_species = list(set(mknp_pc_species + mknp_kbm_species))\n",
    "index_of_interest = [sp in mknp_pc_kbm_species for sp in all_mknp_species]\n",
    "\n",
    "stats.kstest(foo_pc_mknp[index_of_interest] - foo_kbm_mknp[index_of_interest],\n",
    "             stats.norm.cdf)"
   ]
  },
  {
   "cell_type": "code",
   "execution_count": 22,
   "id": "03d1b838-0fa2-4d0d-8b2a-fd006b117365",
   "metadata": {},
   "outputs": [
    {
     "data": {
      "text/plain": [
       "WilcoxonResult(statistic=442.0, pvalue=1.0007099824756123e-20)"
      ]
     },
     "execution_count": 22,
     "metadata": {},
     "output_type": "execute_result"
    }
   ],
   "source": [
    "scipy.stats.wilcoxon(foo_pc_mknp[index_of_interest], foo_kbm_mknp[index_of_interest])"
   ]
  },
  {
   "cell_type": "code",
   "execution_count": 23,
   "id": "5be3fbce-4f8e-41e2-9f3d-d32c62b13c60",
   "metadata": {},
   "outputs": [
    {
     "data": {
      "text/plain": [
       "139"
      ]
     },
     "execution_count": 23,
     "metadata": {},
     "output_type": "execute_result"
    }
   ],
   "source": [
    "sum(index_of_interest)"
   ]
  },
  {
   "cell_type": "code",
   "execution_count": 24,
   "id": "f2a20802-a152-43f3-bc6a-a3667d3e79a6",
   "metadata": {},
   "outputs": [
    {
     "data": {
      "text/plain": [
       "KstestResult(statistic=0.4435727894309782, pvalue=1.5246989520686471e-24, statistic_location=0.06666666666666667, statistic_sign=1)"
      ]
     },
     "execution_count": 24,
     "metadata": {},
     "output_type": "execute_result"
    }
   ],
   "source": [
    "# aru vs kbm\n",
    "mknp_aru_kbm_species = list(set(mknp_aru_species + mknp_kbm_species))\n",
    "index_of_interest = [sp in mknp_aru_kbm_species for sp in all_mknp_species]\n",
    "\n",
    "stats.kstest(foo_aru_mknp[index_of_interest] - foo_kbm_mknp[index_of_interest],\n",
    "             stats.norm.cdf)"
   ]
  },
  {
   "cell_type": "code",
   "execution_count": 25,
   "id": "032ddbc4-dacf-4061-8b79-b573fc983b71",
   "metadata": {},
   "outputs": [
    {
     "data": {
      "text/plain": [
       "WilcoxonResult(statistic=476.5, pvalue=3.9394553182305737e-19)"
      ]
     },
     "execution_count": 25,
     "metadata": {},
     "output_type": "execute_result"
    }
   ],
   "source": [
    "scipy.stats.wilcoxon(foo_aru_mknp[index_of_interest], foo_kbm_mknp[index_of_interest])"
   ]
  },
  {
   "cell_type": "code",
   "execution_count": 26,
   "id": "1a58831d-e62f-4b72-904e-8f07ae695552",
   "metadata": {},
   "outputs": [
    {
     "data": {
      "text/plain": [
       "134"
      ]
     },
     "execution_count": 26,
     "metadata": {},
     "output_type": "execute_result"
    }
   ],
   "source": [
    "sum(index_of_interest)"
   ]
  },
  {
   "cell_type": "markdown",
   "id": "52d3d8d6-f440-4bce-88ed-88ebf824623c",
   "metadata": {},
   "source": [
    "# DeKUWC"
   ]
  },
  {
   "cell_type": "code",
   "execution_count": 27,
   "id": "16fd8db0-03dc-43d3-92ca-2950c859e0cc",
   "metadata": {},
   "outputs": [],
   "source": [
    "dekuwc_pc = pd.read_csv('../annotations/dekuwc-pc-2017.csv')\n",
    "dekuwc_pc_mtx = dekuwc_pc[dekuwc_pc.keys()[1:]].to_numpy()\n",
    "foo_pc = np.mean(dekuwc_pc_mtx, axis = 1)"
   ]
  },
  {
   "cell_type": "code",
   "execution_count": 28,
   "id": "554eab7e-c92a-47f7-8cdf-4ac91acecf6e",
   "metadata": {},
   "outputs": [],
   "source": [
    "pfiles = os.listdir('../annotations/')\n",
    "# audio \n",
    "dekuwc_aru_species = []\n",
    "for pfile in pfiles:\n",
    "    if 'pc' not in pfile and 'kbm' not in pfile and 'dekuwc' in pfile and pfile.endswith('csv'):\n",
    "        df = pd.read_csv(os.path.join('../annotations', pfile))\n",
    "        dekuwc_aru_species += species_from_df(df)\n",
    "\n",
    "dekuwc_aru_species = list(set(dekuwc_aru_species))\n",
    "dekuwc_aru_species.sort()"
   ]
  },
  {
   "cell_type": "code",
   "execution_count": 29,
   "id": "b763303c-567c-49a2-b7c7-2520cc91d455",
   "metadata": {},
   "outputs": [],
   "source": [
    "dekuwc_pc_species = list(dekuwc_pc['Unnamed: 0'])\n",
    "dekuwc_kbm = pd.read_csv('../annotations/dekuwc-kbm.csv')\n",
    "dekuwc_kbm_species = list(dekuwc_kbm['Unnamed: 0'])\n",
    "\n",
    "dekuwc_kbm_mtx = dekuwc_kbm[dekuwc_kbm.keys()[1:]].to_numpy()\n",
    "# frequency of occurence (foo) \n",
    "foo_kbm = np.mean(dekuwc_kbm_mtx, axis = 1)"
   ]
  },
  {
   "cell_type": "code",
   "execution_count": 30,
   "id": "9c7971a9-a860-4b42-b48e-331c8fd3155e",
   "metadata": {},
   "outputs": [],
   "source": [
    "all_dekuwc_species =  list(set(dekuwc_aru_species + dekuwc_pc_species + dekuwc_kbm_species))\n",
    "all_dekuwc_species.sort()"
   ]
  },
  {
   "cell_type": "markdown",
   "id": "0de2efb1-16a0-4bd7-b51a-6155b9849792",
   "metadata": {},
   "source": [
    "## DeKUWC Species Richness\n",
    "\n",
    "The species richness for DeKUWC is shown below. The data appear in Table 2 of the paper"
   ]
  },
  {
   "cell_type": "code",
   "execution_count": 31,
   "id": "f5456b21-5b25-481e-80cf-f459f44998db",
   "metadata": {},
   "outputs": [
    {
     "name": "stdout",
     "output_type": "stream",
     "text": [
      "DeKUWC Species Richness: PC 57, ARU 89, KBM 224 Total 260\n"
     ]
    }
   ],
   "source": [
    "print('DeKUWC Species Richness: PC {}, ARU {}, KBM {} Total {}'.format(len(dekuwc_pc_species),\n",
    "                                                                  len(dekuwc_aru_species),\n",
    "                                                                  len(dekuwc_kbm_species),\n",
    "                                                                  len(all_dekuwc_species)))"
   ]
  },
  {
   "cell_type": "code",
   "execution_count": 32,
   "id": "22a8c6e8-0667-4829-a1d4-b5f6be1072af",
   "metadata": {},
   "outputs": [],
   "source": [
    "all_dekuwc_species_sn = [kenyan_sp_sn[kenyan_sp_cn.index(sp)] for indx, sp in enumerate(all_dekuwc_species)]"
   ]
  },
  {
   "cell_type": "code",
   "execution_count": 33,
   "id": "e64cb075-8c92-477d-badf-a3366f814312",
   "metadata": {},
   "outputs": [],
   "source": [
    "# generate random PC\n",
    "num_simulated_pc = 40\n",
    "recordings_per_pc = 10 # similate 10 minute point count\n",
    "aru_sim_pc = np.zeros((len(all_dekuwc_species), num_simulated_pc))"
   ]
  },
  {
   "cell_type": "code",
   "execution_count": 34,
   "id": "cbf1731f-a568-4504-931d-13fe8340a9d2",
   "metadata": {},
   "outputs": [],
   "source": [
    "dekuwc_aru_files = [pfile for pfile in pfiles if 'pc' not in pfile and 'kbm' not in pfile and 'dekuwc' in pfile and pfile.endswith('csv')]"
   ]
  },
  {
   "cell_type": "code",
   "execution_count": 35,
   "id": "3b756ee2-ebfe-45c2-b031-387b5cd024bf",
   "metadata": {},
   "outputs": [],
   "source": [
    "for i in range(num_simulated_pc):\n",
    "    dekuwc_aru = pd.read_csv(os.path.join('../annotations/', \n",
    "                                           random.choice(dekuwc_aru_files)))\n",
    "    pc_df = dekuwc_aru.iloc[random.sample(range(len(dekuwc_aru)), recordings_per_pc)]\n",
    "    pc_sps = species_from_df(pc_df)\n",
    "\n",
    "    for pc_sp in pc_sps:\n",
    "        aru_sim_pc[all_dekuwc_species.index(pc_sp), i] += 1\n",
    "    "
   ]
  },
  {
   "cell_type": "code",
   "execution_count": 36,
   "id": "1fc86a54-32d2-4602-9e2b-fd7726d34cc7",
   "metadata": {},
   "outputs": [],
   "source": [
    "foo_aru_dekuwc = np.mean(aru_sim_pc, axis=1)\n",
    "foo_pc_dekuwc = np.zeros(len(all_dekuwc_species))\n",
    "foo_kbm_dekuwc = np.zeros(len(all_dekuwc_species))"
   ]
  },
  {
   "cell_type": "code",
   "execution_count": 37,
   "id": "71b58919-98c7-4058-88dc-22027f17c28b",
   "metadata": {},
   "outputs": [],
   "source": [
    "for indx, sp in enumerate(dekuwc_pc_species):\n",
    "    foo_pc_dekuwc[all_dekuwc_species.index(sp)] = foo_pc[indx]"
   ]
  },
  {
   "cell_type": "code",
   "execution_count": 38,
   "id": "32f9690d-637b-4d1e-aec4-643e8e761606",
   "metadata": {},
   "outputs": [],
   "source": [
    "for indx, sp in enumerate(dekuwc_kbm_species):\n",
    "    foo_kbm_dekuwc[all_dekuwc_species.index(sp)] = foo_kbm[indx]"
   ]
  },
  {
   "cell_type": "markdown",
   "id": "c2509b24-445e-4928-a76b-3be91fe2ef58",
   "metadata": {},
   "source": [
    "### Table 8\n",
    "\n",
    "The table below shows the frequency of occurence for the top 20 species according to PC for DeKUWC. It is Table 8 in the paper"
   ]
  },
  {
   "cell_type": "code",
   "execution_count": 39,
   "id": "164c80a2-c290-48ac-b640-4bf8b49d66da",
   "metadata": {},
   "outputs": [
    {
     "data": {
      "text/html": [
       "<div>\n",
       "<style scoped>\n",
       "    .dataframe tbody tr th:only-of-type {\n",
       "        vertical-align: middle;\n",
       "    }\n",
       "\n",
       "    .dataframe tbody tr th {\n",
       "        vertical-align: top;\n",
       "    }\n",
       "\n",
       "    .dataframe thead th {\n",
       "        text-align: right;\n",
       "    }\n",
       "</style>\n",
       "<table border=\"1\" class=\"dataframe\">\n",
       "  <thead>\n",
       "    <tr style=\"text-align: right;\">\n",
       "      <th></th>\n",
       "      <th>Scientific Name</th>\n",
       "      <th>Common Name</th>\n",
       "      <th>Point Count</th>\n",
       "      <th>ARU</th>\n",
       "      <th>KBM</th>\n",
       "    </tr>\n",
       "  </thead>\n",
       "  <tbody>\n",
       "    <tr>\n",
       "      <th>74</th>\n",
       "      <td>Pycnonotus barbatus</td>\n",
       "      <td>Common Bulbul</td>\n",
       "      <td>0.700</td>\n",
       "      <td>0.625</td>\n",
       "      <td>0.152174</td>\n",
       "    </tr>\n",
       "    <tr>\n",
       "      <th>113</th>\n",
       "      <td>Camaroptera brachyura</td>\n",
       "      <td>Grey-backed Camaroptera</td>\n",
       "      <td>0.675</td>\n",
       "      <td>0.800</td>\n",
       "      <td>0.326087</td>\n",
       "    </tr>\n",
       "    <tr>\n",
       "      <th>229</th>\n",
       "      <td>Cinnyris venustus</td>\n",
       "      <td>Variable Sunbird</td>\n",
       "      <td>0.500</td>\n",
       "      <td>0.425</td>\n",
       "      <td>0.826087</td>\n",
       "    </tr>\n",
       "    <tr>\n",
       "      <th>228</th>\n",
       "      <td>Laniarius aethopicus</td>\n",
       "      <td>Tropical Boubou</td>\n",
       "      <td>0.375</td>\n",
       "      <td>0.625</td>\n",
       "      <td>0.065217</td>\n",
       "    </tr>\n",
       "    <tr>\n",
       "      <th>258</th>\n",
       "      <td>Andropadus latirostris</td>\n",
       "      <td>Yellow-whiskered Greenbul</td>\n",
       "      <td>0.275</td>\n",
       "      <td>0.800</td>\n",
       "      <td>0.369565</td>\n",
       "    </tr>\n",
       "    <tr>\n",
       "      <th>36</th>\n",
       "      <td>Dryoscopus cubla</td>\n",
       "      <td>Black-backed Puffback</td>\n",
       "      <td>0.250</td>\n",
       "      <td>0.250</td>\n",
       "      <td>0.434783</td>\n",
       "    </tr>\n",
       "    <tr>\n",
       "      <th>73</th>\n",
       "      <td>Hedydipna collaris</td>\n",
       "      <td>Collared Sunbird</td>\n",
       "      <td>0.225</td>\n",
       "      <td>0.550</td>\n",
       "      <td>0.434783</td>\n",
       "    </tr>\n",
       "    <tr>\n",
       "      <th>240</th>\n",
       "      <td>Melaenornis fischeri</td>\n",
       "      <td>White-eyed Slaty Flycatcher</td>\n",
       "      <td>0.200</td>\n",
       "      <td>0.000</td>\n",
       "      <td>0.826087</td>\n",
       "    </tr>\n",
       "    <tr>\n",
       "      <th>69</th>\n",
       "      <td>Batis molitor</td>\n",
       "      <td>Chin-spot Batis</td>\n",
       "      <td>0.150</td>\n",
       "      <td>0.450</td>\n",
       "      <td>0.000000</td>\n",
       "    </tr>\n",
       "    <tr>\n",
       "      <th>108</th>\n",
       "      <td>Apalis cinerea</td>\n",
       "      <td>Grey Apalis</td>\n",
       "      <td>0.150</td>\n",
       "      <td>0.150</td>\n",
       "      <td>0.173913</td>\n",
       "    </tr>\n",
       "    <tr>\n",
       "      <th>210</th>\n",
       "      <td>Colius striatus</td>\n",
       "      <td>Speckled Mousebird</td>\n",
       "      <td>0.125</td>\n",
       "      <td>0.100</td>\n",
       "      <td>0.913043</td>\n",
       "    </tr>\n",
       "    <tr>\n",
       "      <th>256</th>\n",
       "      <td>Pogoniulus bilineatus</td>\n",
       "      <td>Yellow-rumped Tinkerbird</td>\n",
       "      <td>0.125</td>\n",
       "      <td>0.725</td>\n",
       "      <td>0.521739</td>\n",
       "    </tr>\n",
       "    <tr>\n",
       "      <th>202</th>\n",
       "      <td>Cossypha semirufa</td>\n",
       "      <td>Rüppell's Robin Chat</td>\n",
       "      <td>0.125</td>\n",
       "      <td>0.350</td>\n",
       "      <td>0.000000</td>\n",
       "    </tr>\n",
       "    <tr>\n",
       "      <th>64</th>\n",
       "      <td>Cossypha caffra</td>\n",
       "      <td>Cape Robin Chat</td>\n",
       "      <td>0.125</td>\n",
       "      <td>0.300</td>\n",
       "      <td>0.000000</td>\n",
       "    </tr>\n",
       "    <tr>\n",
       "      <th>34</th>\n",
       "      <td>Psalidoprocne pristoptera</td>\n",
       "      <td>Black Saw-wing</td>\n",
       "      <td>0.125</td>\n",
       "      <td>0.000</td>\n",
       "      <td>0.000000</td>\n",
       "    </tr>\n",
       "    <tr>\n",
       "      <th>178</th>\n",
       "      <td>Cisticola chiniana</td>\n",
       "      <td>Rattling Cisticola</td>\n",
       "      <td>0.100</td>\n",
       "      <td>0.000</td>\n",
       "      <td>0.086957</td>\n",
       "    </tr>\n",
       "    <tr>\n",
       "      <th>78</th>\n",
       "      <td>Lanius collaris</td>\n",
       "      <td>Common Fiscal</td>\n",
       "      <td>0.100</td>\n",
       "      <td>0.000</td>\n",
       "      <td>0.000000</td>\n",
       "    </tr>\n",
       "    <tr>\n",
       "      <th>121</th>\n",
       "      <td>Tauraco hartlaubi</td>\n",
       "      <td>Hartlaub's Turaco</td>\n",
       "      <td>0.100</td>\n",
       "      <td>0.375</td>\n",
       "      <td>0.217391</td>\n",
       "    </tr>\n",
       "    <tr>\n",
       "      <th>71</th>\n",
       "      <td>Merops oreobates</td>\n",
       "      <td>Cinnamon-chested Bee-eater</td>\n",
       "      <td>0.100</td>\n",
       "      <td>0.400</td>\n",
       "      <td>0.521739</td>\n",
       "    </tr>\n",
       "    <tr>\n",
       "      <th>183</th>\n",
       "      <td>Uraeginthus bengalus</td>\n",
       "      <td>Red-cheeked Cordon-bleu</td>\n",
       "      <td>0.100</td>\n",
       "      <td>0.075</td>\n",
       "      <td>0.000000</td>\n",
       "    </tr>\n",
       "  </tbody>\n",
       "</table>\n",
       "</div>"
      ],
      "text/plain": [
       "               Scientific Name                  Common Name  Point Count  \\\n",
       "74         Pycnonotus barbatus                Common Bulbul        0.700   \n",
       "113      Camaroptera brachyura      Grey-backed Camaroptera        0.675   \n",
       "229          Cinnyris venustus             Variable Sunbird        0.500   \n",
       "228       Laniarius aethopicus              Tropical Boubou        0.375   \n",
       "258     Andropadus latirostris    Yellow-whiskered Greenbul        0.275   \n",
       "36            Dryoscopus cubla        Black-backed Puffback        0.250   \n",
       "73          Hedydipna collaris             Collared Sunbird        0.225   \n",
       "240       Melaenornis fischeri  White-eyed Slaty Flycatcher        0.200   \n",
       "69               Batis molitor              Chin-spot Batis        0.150   \n",
       "108             Apalis cinerea                  Grey Apalis        0.150   \n",
       "210            Colius striatus           Speckled Mousebird        0.125   \n",
       "256      Pogoniulus bilineatus     Yellow-rumped Tinkerbird        0.125   \n",
       "202          Cossypha semirufa         Rüppell's Robin Chat        0.125   \n",
       "64             Cossypha caffra              Cape Robin Chat        0.125   \n",
       "34   Psalidoprocne pristoptera               Black Saw-wing        0.125   \n",
       "178         Cisticola chiniana           Rattling Cisticola        0.100   \n",
       "78             Lanius collaris                Common Fiscal        0.100   \n",
       "121          Tauraco hartlaubi            Hartlaub's Turaco        0.100   \n",
       "71            Merops oreobates   Cinnamon-chested Bee-eater        0.100   \n",
       "183       Uraeginthus bengalus      Red-cheeked Cordon-bleu        0.100   \n",
       "\n",
       "       ARU       KBM  \n",
       "74   0.625  0.152174  \n",
       "113  0.800  0.326087  \n",
       "229  0.425  0.826087  \n",
       "228  0.625  0.065217  \n",
       "258  0.800  0.369565  \n",
       "36   0.250  0.434783  \n",
       "73   0.550  0.434783  \n",
       "240  0.000  0.826087  \n",
       "69   0.450  0.000000  \n",
       "108  0.150  0.173913  \n",
       "210  0.100  0.913043  \n",
       "256  0.725  0.521739  \n",
       "202  0.350  0.000000  \n",
       "64   0.300  0.000000  \n",
       "34   0.000  0.000000  \n",
       "178  0.000  0.086957  \n",
       "78   0.000  0.000000  \n",
       "121  0.375  0.217391  \n",
       "71   0.400  0.521739  \n",
       "183  0.075  0.000000  "
      ]
     },
     "execution_count": 39,
     "metadata": {},
     "output_type": "execute_result"
    }
   ],
   "source": [
    "dekuwc_df = pd.DataFrame(zip(all_dekuwc_species_sn, all_dekuwc_species, foo_pc_dekuwc, foo_aru_dekuwc, foo_kbm_dekuwc), columns=['Scientific Name', 'Common Name', 'Point Count', 'ARU', 'KBM'])\n",
    "dekuwc_top = dekuwc_df.sort_values(by=['Point Count'], ascending=False)[:20]\n",
    "#print(dekuwc_top.to_latex(index=False,\n",
    "#                  formatters={\"name\": str.upper},\n",
    "#                  float_format=\"{:.2f}\".format,\n",
    "#)) \n",
    "dekuwc_top"
   ]
  },
  {
   "cell_type": "markdown",
   "id": "8ec5b7bf-1343-428e-bc93-29b892a9f8eb",
   "metadata": {},
   "source": [
    "## Statistical tests"
   ]
  },
  {
   "cell_type": "code",
   "execution_count": 40,
   "id": "0a29fb0d-a059-4fad-945b-78fe76e12d08",
   "metadata": {},
   "outputs": [
    {
     "data": {
      "text/plain": [
       "KstestResult(statistic=0.4419903445411528, pvalue=4.3060625117864154e-20, statistic_location=0.1, statistic_sign=1)"
      ]
     },
     "execution_count": 40,
     "metadata": {},
     "output_type": "execute_result"
    }
   ],
   "source": [
    "# PC vs ARU\n",
    "dekuwc_pc_aru_species = list(set(dekuwc_pc_species + dekuwc_aru_species))\n",
    "index_of_interest = [sp in dekuwc_pc_aru_species for sp in all_dekuwc_species]\n",
    "stats.kstest(foo_pc_dekuwc[index_of_interest] - foo_aru_dekuwc[index_of_interest],\n",
    "             stats.norm.cdf)"
   ]
  },
  {
   "cell_type": "code",
   "execution_count": 41,
   "id": "90492339-79d2-4ff3-9749-c01b502f6ac9",
   "metadata": {},
   "outputs": [
    {
     "data": {
      "text/plain": [
       "WilcoxonResult(statistic=907.5, pvalue=4.2337316539254125e-06)"
      ]
     },
     "execution_count": 41,
     "metadata": {},
     "output_type": "execute_result"
    }
   ],
   "source": [
    "scipy.stats.wilcoxon(foo_pc_dekuwc[index_of_interest], foo_aru_dekuwc[index_of_interest])"
   ]
  },
  {
   "cell_type": "code",
   "execution_count": 42,
   "id": "9f4bec38-d7bd-454d-a8a0-bc21d46fc7de",
   "metadata": {},
   "outputs": [
    {
     "data": {
      "text/plain": [
       "110"
      ]
     },
     "execution_count": 42,
     "metadata": {},
     "output_type": "execute_result"
    }
   ],
   "source": [
    "sum(index_of_interest)"
   ]
  },
  {
   "cell_type": "code",
   "execution_count": 43,
   "id": "89c39739-f6df-43d7-99cb-106975de8c34",
   "metadata": {},
   "outputs": [
    {
     "data": {
      "text/plain": [
       "KstestResult(statistic=0.4369210245602021, pvalue=5.0052023831420015e-42, statistic_location=0.05326086956521739, statistic_sign=1)"
      ]
     },
     "execution_count": 43,
     "metadata": {},
     "output_type": "execute_result"
    }
   ],
   "source": [
    "# PC vs KBM\n",
    "dekuwc_pc_kbm_species = list(set(dekuwc_pc_species + dekuwc_kbm_species))\n",
    "index_of_interest = [sp in dekuwc_pc_kbm_species for sp in all_dekuwc_species]\n",
    "\n",
    "stats.kstest(foo_pc_dekuwc[index_of_interest] - foo_kbm_dekuwc[index_of_interest],\n",
    "             stats.norm.cdf)"
   ]
  },
  {
   "cell_type": "code",
   "execution_count": 44,
   "id": "c55622bd-dbcb-4273-aeac-f89503c16025",
   "metadata": {},
   "outputs": [
    {
     "data": {
      "text/plain": [
       "WilcoxonResult(statistic=2627.0, pvalue=4.930012662574948e-28)"
      ]
     },
     "execution_count": 44,
     "metadata": {},
     "output_type": "execute_result"
    }
   ],
   "source": [
    "scipy.stats.wilcoxon(foo_pc_dekuwc[index_of_interest], foo_kbm_dekuwc[index_of_interest])"
   ]
  },
  {
   "cell_type": "code",
   "execution_count": 45,
   "id": "e7ac4c14-cb2e-46d5-b8eb-7178c12d8981",
   "metadata": {},
   "outputs": [
    {
     "data": {
      "text/plain": [
       "239"
      ]
     },
     "execution_count": 45,
     "metadata": {},
     "output_type": "execute_result"
    }
   ],
   "source": [
    "sum(index_of_interest)"
   ]
  },
  {
   "cell_type": "code",
   "execution_count": 46,
   "id": "d20caf3d-3ea4-481a-b7f5-62809e93cdcd",
   "metadata": {},
   "outputs": [
    {
     "data": {
      "text/plain": [
       "KstestResult(statistic=0.39120665705965085, pvalue=1.572866597945111e-35, statistic_location=0.125, statistic_sign=1)"
      ]
     },
     "execution_count": 46,
     "metadata": {},
     "output_type": "execute_result"
    }
   ],
   "source": [
    "# ARU vs KBM\n",
    "dekuwc_aru_kbm_species = list(set(dekuwc_aru_species + dekuwc_kbm_species))\n",
    "index_of_interest = [sp in dekuwc_aru_kbm_species for sp in all_dekuwc_species]\n",
    "\n",
    "stats.kstest(foo_aru_dekuwc[index_of_interest] - foo_kbm_dekuwc[index_of_interest],\n",
    "             stats.norm.cdf)"
   ]
  },
  {
   "cell_type": "code",
   "execution_count": 47,
   "id": "390237c3-3a0f-4be4-99c9-2f528bdce222",
   "metadata": {},
   "outputs": [
    {
     "data": {
      "text/plain": [
       "WilcoxonResult(statistic=5557.0, pvalue=1.4861229612303002e-17)"
      ]
     },
     "execution_count": 47,
     "metadata": {},
     "output_type": "execute_result"
    }
   ],
   "source": [
    "scipy.stats.wilcoxon(foo_aru_dekuwc[index_of_interest], foo_kbm_dekuwc[index_of_interest])"
   ]
  },
  {
   "cell_type": "code",
   "execution_count": 48,
   "id": "8fba906f-bd28-4c41-aa95-158843722f7e",
   "metadata": {},
   "outputs": [
    {
     "data": {
      "text/plain": [
       "254"
      ]
     },
     "execution_count": 48,
     "metadata": {},
     "output_type": "execute_result"
    }
   ],
   "source": [
    "sum(index_of_interest)"
   ]
  },
  {
   "cell_type": "code",
   "execution_count": null,
   "id": "fc3478c3-7011-441d-9695-e8a275bd8ee1",
   "metadata": {},
   "outputs": [],
   "source": []
  }
 ],
 "metadata": {
  "kernelspec": {
   "display_name": "Python 3 (ipykernel)",
   "language": "python",
   "name": "python3"
  },
  "language_info": {
   "codemirror_mode": {
    "name": "ipython",
    "version": 3
   },
   "file_extension": ".py",
   "mimetype": "text/x-python",
   "name": "python",
   "nbconvert_exporter": "python",
   "pygments_lexer": "ipython3",
   "version": "3.10.13"
  }
 },
 "nbformat": 4,
 "nbformat_minor": 5
}
