{
 "cells": [
  {
   "cell_type": "markdown",
   "id": "2c258047-fe35-41d9-86ea-23f6ab816417",
   "metadata": {},
   "source": [
    "# Single Species Files\n",
    "\n",
    "We demonstrate the classification of bird species observed in the Mt Kenya ecosystem leveraging open source models. In particular we demonstrate the use of embeddings obtained from Google's [Bird Vocalization Classifier](https://www.kaggle.com/models/google/bird-vocalization-classifier) to train classifiers for the species observed.\n",
    "\n",
    "In this notebook we process the annotation data to determine files containing single species."
   ]
  },
  {
   "cell_type": "code",
   "execution_count": 1,
   "id": "ab743a46-894a-4041-9cc4-6aa01013c71d",
   "metadata": {},
   "outputs": [],
   "source": [
    "import os\n",
    "import random\n",
    "import librosa\n",
    "import scipy \n",
    "import json\n",
    "import numpy as np\n",
    "import pandas as pd\n",
    "import matplotlib.pyplot as plt\n",
    "\n",
    "from collections import Counter\n",
    "from scipy import stats\n",
    "from matplotlib_venn import venn2"
   ]
  },
  {
   "cell_type": "code",
   "execution_count": 2,
   "id": "6d7c4eed-0113-4ea5-8625-e5f1715a2803",
   "metadata": {},
   "outputs": [],
   "source": [
    "def species_from_df(df):\n",
    "    sps = []\n",
    "    for i in range(len(df)):\n",
    "        if not pd.isna(df.iloc[i]['Foreground Species']):\n",
    "            sps += df.iloc[i]['Foreground Species'].split(';')\n",
    "        if not pd.isna(df.iloc[i]['Background Species']):\n",
    "            sps += df.iloc[i]['Background Species'].split(';')\n",
    "    return list(set(sps))\n"
   ]
  },
  {
   "cell_type": "code",
   "execution_count": 3,
   "id": "57b62ced-52f3-47d9-a1cf-c21e3025d21e",
   "metadata": {},
   "outputs": [],
   "source": [
    "# get all species\n",
    "mknp_aru = pd.read_csv('../annotations/mknp-aru-2017-2018.csv')\n",
    "mknp_aru_species = species_from_df(mknp_aru)\n",
    "\n",
    "dekuwc_aru_2016 = pd.read_csv('../annotations/dekuwc-aru-2016.csv')\n",
    "dekuwc_aru_2017 = pd.read_csv('../annotations/dekuwc-aru-2017.csv')\n",
    "\n",
    "dekuwc_aru = pd.concat([dekuwc_aru_2016, dekuwc_aru_2017])\n",
    "dekuwc_aru_species = species_from_df(dekuwc_aru)\n",
    "\n",
    "mknp_dekuwc_aru = pd.concat([mknp_aru, dekuwc_aru])"
   ]
  },
  {
   "cell_type": "code",
   "execution_count": 4,
   "id": "6d799f62-e198-4427-b861-8b95f3e624b1",
   "metadata": {},
   "outputs": [
    {
     "data": {
      "text/html": [
       "<div>\n",
       "<style scoped>\n",
       "    .dataframe tbody tr th:only-of-type {\n",
       "        vertical-align: middle;\n",
       "    }\n",
       "\n",
       "    .dataframe tbody tr th {\n",
       "        vertical-align: top;\n",
       "    }\n",
       "\n",
       "    .dataframe thead th {\n",
       "        text-align: right;\n",
       "    }\n",
       "</style>\n",
       "<table border=\"1\" class=\"dataframe\">\n",
       "  <thead>\n",
       "    <tr style=\"text-align: right;\">\n",
       "      <th></th>\n",
       "      <th>Filename</th>\n",
       "      <th>Foreground Species</th>\n",
       "      <th>Background Species</th>\n",
       "      <th>Remarks</th>\n",
       "    </tr>\n",
       "  </thead>\n",
       "  <tbody>\n",
       "    <tr>\n",
       "      <th>0</th>\n",
       "      <td>MKNP-1-2017-11-20-07-15-12.mp3</td>\n",
       "      <td>White-starred Robin</td>\n",
       "      <td>Olive Sunbird</td>\n",
       "      <td>NaN</td>\n",
       "    </tr>\n",
       "    <tr>\n",
       "      <th>1</th>\n",
       "      <td>MKNP-1-2017-11-20-08-45-12.mp3</td>\n",
       "      <td>White-starred Robin;Brown Woodland Warbler</td>\n",
       "      <td>NaN</td>\n",
       "      <td>NaN</td>\n",
       "    </tr>\n",
       "    <tr>\n",
       "      <th>2</th>\n",
       "      <td>MKNP-1-2017-11-20-09-30-12.mp3</td>\n",
       "      <td>Cinnamon Bracken Warbler</td>\n",
       "      <td>NaN</td>\n",
       "      <td>NaN</td>\n",
       "    </tr>\n",
       "    <tr>\n",
       "      <th>3</th>\n",
       "      <td>MKNP-1-2017-11-20-10-45-12.mp3</td>\n",
       "      <td>NaN</td>\n",
       "      <td>Brown Woodland Warbler</td>\n",
       "      <td>NaN</td>\n",
       "    </tr>\n",
       "    <tr>\n",
       "      <th>4</th>\n",
       "      <td>MKNP-1-2017-11-21-07-10-13.mp3</td>\n",
       "      <td>NaN</td>\n",
       "      <td>Brown Woodland Warbler</td>\n",
       "      <td>NaN</td>\n",
       "    </tr>\n",
       "    <tr>\n",
       "      <th>...</th>\n",
       "      <td>...</td>\n",
       "      <td>...</td>\n",
       "      <td>...</td>\n",
       "      <td>...</td>\n",
       "    </tr>\n",
       "    <tr>\n",
       "      <th>295</th>\n",
       "      <td>DeKUWC-10-2017-02-16-08-11-09.mp3</td>\n",
       "      <td>Tropical Boubou;Brown-backed Scrub Robin;Thrus...</td>\n",
       "      <td>Olive Thrush;Emerald-spotted Wood Dove;Yellow-...</td>\n",
       "      <td>NaN</td>\n",
       "    </tr>\n",
       "    <tr>\n",
       "      <th>296</th>\n",
       "      <td>DeKUWC-10-2017-02-16-08-51-17.mp3</td>\n",
       "      <td>Olive Thrush;Yellow-whiskered Greenbul</td>\n",
       "      <td>Cinnamon-chested Bee-eater</td>\n",
       "      <td>NaN</td>\n",
       "    </tr>\n",
       "    <tr>\n",
       "      <th>297</th>\n",
       "      <td>DeKUWC-10-2017-02-16-09-16-22.mp3</td>\n",
       "      <td>Yellow-rumped Tinkerbird</td>\n",
       "      <td>Yellow-rumped Tinkerbird;Grey-backed Camaroptera</td>\n",
       "      <td>NaN</td>\n",
       "    </tr>\n",
       "    <tr>\n",
       "      <th>298</th>\n",
       "      <td>DeKUWC-10-2017-02-16-09-31-25.mp3</td>\n",
       "      <td>Yellow-rumped Tinkerbird;Grey-backed Camaroptera</td>\n",
       "      <td>NaN</td>\n",
       "      <td>NaN</td>\n",
       "    </tr>\n",
       "    <tr>\n",
       "      <th>299</th>\n",
       "      <td>DeKUWC-10-2017-02-16-10-26-36.mp3</td>\n",
       "      <td>Common Bulbul;Yellow-rumped Tinkerbird</td>\n",
       "      <td>Grey-backed Camaroptera;Variable Sunbird</td>\n",
       "      <td>NaN</td>\n",
       "    </tr>\n",
       "  </tbody>\n",
       "</table>\n",
       "<p>3901 rows × 4 columns</p>\n",
       "</div>"
      ],
      "text/plain": [
       "                              Filename  \\\n",
       "0       MKNP-1-2017-11-20-07-15-12.mp3   \n",
       "1       MKNP-1-2017-11-20-08-45-12.mp3   \n",
       "2       MKNP-1-2017-11-20-09-30-12.mp3   \n",
       "3       MKNP-1-2017-11-20-10-45-12.mp3   \n",
       "4       MKNP-1-2017-11-21-07-10-13.mp3   \n",
       "..                                 ...   \n",
       "295  DeKUWC-10-2017-02-16-08-11-09.mp3   \n",
       "296  DeKUWC-10-2017-02-16-08-51-17.mp3   \n",
       "297  DeKUWC-10-2017-02-16-09-16-22.mp3   \n",
       "298  DeKUWC-10-2017-02-16-09-31-25.mp3   \n",
       "299  DeKUWC-10-2017-02-16-10-26-36.mp3   \n",
       "\n",
       "                                    Foreground Species  \\\n",
       "0                                  White-starred Robin   \n",
       "1           White-starred Robin;Brown Woodland Warbler   \n",
       "2                             Cinnamon Bracken Warbler   \n",
       "3                                                  NaN   \n",
       "4                                                  NaN   \n",
       "..                                                 ...   \n",
       "295  Tropical Boubou;Brown-backed Scrub Robin;Thrus...   \n",
       "296             Olive Thrush;Yellow-whiskered Greenbul   \n",
       "297                           Yellow-rumped Tinkerbird   \n",
       "298   Yellow-rumped Tinkerbird;Grey-backed Camaroptera   \n",
       "299             Common Bulbul;Yellow-rumped Tinkerbird   \n",
       "\n",
       "                                    Background Species Remarks  \n",
       "0                                        Olive Sunbird     NaN  \n",
       "1                                                  NaN     NaN  \n",
       "2                                                  NaN     NaN  \n",
       "3                               Brown Woodland Warbler     NaN  \n",
       "4                               Brown Woodland Warbler     NaN  \n",
       "..                                                 ...     ...  \n",
       "295  Olive Thrush;Emerald-spotted Wood Dove;Yellow-...     NaN  \n",
       "296                         Cinnamon-chested Bee-eater     NaN  \n",
       "297   Yellow-rumped Tinkerbird;Grey-backed Camaroptera     NaN  \n",
       "298                                                NaN     NaN  \n",
       "299           Grey-backed Camaroptera;Variable Sunbird     NaN  \n",
       "\n",
       "[3901 rows x 4 columns]"
      ]
     },
     "execution_count": 4,
     "metadata": {},
     "output_type": "execute_result"
    }
   ],
   "source": [
    "mknp_dekuwc_aru"
   ]
  },
  {
   "cell_type": "markdown",
   "id": "98566ed8-0b24-40f7-8a92-4270cc896503",
   "metadata": {},
   "source": [
    "## Species Overlap"
   ]
  },
  {
   "cell_type": "code",
   "execution_count": 5,
   "id": "2086079a-18d6-43a3-976b-f3c035909f1c",
   "metadata": {},
   "outputs": [
    {
     "data": {
      "text/plain": [
       "<matplotlib_venn._common.VennDiagram at 0x7f953c0308e0>"
      ]
     },
     "execution_count": 5,
     "metadata": {},
     "output_type": "execute_result"
    },
    {
     "data": {
      "image/png": "[encoded data removed]",
      "text/plain": [
       "<Figure size 640x480 with 1 Axes>"
      ]
     },
     "metadata": {},
     "output_type": "display_data"
    }
   ],
   "source": [
    "venn2((set(dekuwc_aru_species), set(mknp_aru_species)), \n",
    "      set_labels = ('DeKUT Audio', 'MKNP Audio'))"
   ]
  },
  {
   "cell_type": "markdown",
   "id": "1b56814b-d6e1-4f33-be86-aa3e319412c1",
   "metadata": {},
   "source": [
    "## Data for model training\n",
    "We use audio data which contains a single species either in the background or foreground to train single species identification classifier"
   ]
  },
  {
   "cell_type": "code",
   "execution_count": 6,
   "id": "4f005353-39b6-4082-bad4-b4b3027e4b0c",
   "metadata": {},
   "outputs": [],
   "source": [
    "single_species = []\n",
    "single_species_filenames = {}\n",
    "for i in range(len(mknp_dekuwc_aru)):\n",
    "    if not pd.isna(mknp_dekuwc_aru.iloc[i]['Foreground Species']) and pd.isna(mknp_dekuwc_aru.iloc[i]['Background Species']):\n",
    "        sps = mknp_dekuwc_aru.iloc[i]['Foreground Species'].split(';')\n",
    "        if len(sps) == 1:\n",
    "            single_species += sps\n",
    "            single_species_filenames[mknp_dekuwc_aru.iloc[i]['Filename']] = sps[0]\n",
    "    if not pd.isna(mknp_dekuwc_aru.iloc[i]['Background Species']) and pd.isna(mknp_dekuwc_aru.iloc[i]['Foreground Species']):\n",
    "        sps = mknp_dekuwc_aru.iloc[i]['Background Species'].split(';')\n",
    "        if len(sps) == 1:\n",
    "            single_species += sps\n",
    "            single_species_filenames[mknp_dekuwc_aru.iloc[i]['Filename']] = sps[0]"
   ]
  },
  {
   "cell_type": "markdown",
   "id": "47e7c144-ebe7-414b-8dd5-44dc260e53ff",
   "metadata": {},
   "source": [
    "## Species distribution of single species recordings"
   ]
  },
  {
   "cell_type": "code",
   "execution_count": 7,
   "id": "bec59db4-e283-45b8-a72a-f14c77604c93",
   "metadata": {},
   "outputs": [
    {
     "data": {
      "text/plain": [
       "Counter({'Brown Woodland Warbler': 225,\n",
       "         'Chestnut-throated Apalis': 26,\n",
       "         'Yellow-whiskered Greenbul': 24,\n",
       "         'White-starred Robin': 16,\n",
       "         'Red-fronted Parrot': 16,\n",
       "         'Cinnamon Bracken Warbler': 14,\n",
       "         'Mountain Yellow Warbler': 14,\n",
       "         'Montane White-eye': 12,\n",
       "         \"Hartlaub's Turaco\": 12,\n",
       "         'Grey-backed Camaroptera': 9,\n",
       "         'Common Bulbul': 9,\n",
       "         'Crowned Eagle': 6,\n",
       "         'Cinnamon-chested Bee-eater': 4,\n",
       "         'Grey Apalis': 3,\n",
       "         'Olive Sunbird': 3,\n",
       "         'Yellow-rumped Tinkerbird': 3,\n",
       "         'Red-fronted Tinkerbird': 3,\n",
       "         'Cape Robin Chat': 3,\n",
       "         'Montane Oriole': 3,\n",
       "         'Tropical Boubou': 2,\n",
       "         'Silvery-cheeked Hornbill': 2,\n",
       "         'Collared Sunbird': 2,\n",
       "         'African Dusky Flycatcher': 1,\n",
       "         'Mountain Greenbul': 1,\n",
       "         'Grey-capped Warbler': 1,\n",
       "         'African Paradise Flycatcher': 1,\n",
       "         'Narina Trogon': 1,\n",
       "         \"Cabanis's Greenbul\": 1,\n",
       "         'Hadada Ibis': 1,\n",
       "         'Red-chested Cuckoo': 1,\n",
       "         \"Rüppell's Robin Chat\": 1,\n",
       "         'Black-headed Oriole': 1,\n",
       "         'Lesser Honeyguide': 1,\n",
       "         'Baglafecht Weaver': 1,\n",
       "         'Singing Cisticola': 1})"
      ]
     },
     "execution_count": 7,
     "metadata": {},
     "output_type": "execute_result"
    }
   ],
   "source": [
    "Counter(single_species)"
   ]
  },
  {
   "cell_type": "code",
   "execution_count": 8,
   "id": "12401eb0-5d05-4b40-ad4a-3f11bdf549fd",
   "metadata": {},
   "outputs": [],
   "source": [
    "with open('../annotations/single_species_filenames.json', 'w') as fp:\n",
    "    json.dump(single_species_filenames, fp)"
   ]
  }
 ],
 "metadata": {
  "kernelspec": {
   "display_name": "Python 3 (ipykernel)",
   "language": "python",
   "name": "python3"
  },
  "language_info": {
   "codemirror_mode": {
    "name": "ipython",
    "version": 3
   },
   "file_extension": ".py",
   "mimetype": "text/x-python",
   "name": "python",
   "nbconvert_exporter": "python",
   "pygments_lexer": "ipython3",
   "version": "3.10.13"
  }
 },
 "nbformat": 4,
 "nbformat_minor": 5
}
