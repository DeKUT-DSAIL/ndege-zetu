{
 "cells": [
  {
   "cell_type": "markdown",
   "id": "5b832676-2dbf-4807-a6c4-a6bcdcfa0602",
   "metadata": {},
   "source": [
    "# Finetuned Multi-Label Model\n",
    "This notebook trains a multilabel multilayer perceptron model to classify species observed in Mt Kenya. We use embeddings obtained from the  Google's Perch Model ([Bird Vocalization Classifier](https://www.kaggle.com/models/google/bird-vocalization-classifier)).\n",
    "\n",
    "The embeddings for all files are obtained by running the code below. Audio recordings and embeddings for recordings with single species are part of the [Ndege Zetu dataset](https://datadryad.org/dataset/doi:10.5061/dryad.d51c5b0c7).\n",
    "\n",
    "* `python compute_file_embeddings.py -i ../audio/ -e ../embeddings/`"
   ]
  },
  {
   "cell_type": "code",
   "execution_count": 1,
   "id": "a8f86505-0db1-44c1-9386-95b5c2527cb3",
   "metadata": {},
   "outputs": [
    {
     "name": "stderr",
     "output_type": "stream",
     "text": [
      "2025-02-27 06:58:55.900241: E external/local_xla/xla/stream_executor/cuda/cuda_dnn.cc:9261] Unable to register cuDNN factory: Attempting to register factory for plugin cuDNN when one has already been registered\n",
      "2025-02-27 06:58:55.900311: E external/local_xla/xla/stream_executor/cuda/cuda_fft.cc:607] Unable to register cuFFT factory: Attempting to register factory for plugin cuFFT when one has already been registered\n",
      "2025-02-27 06:58:55.902486: E external/local_xla/xla/stream_executor/cuda/cuda_blas.cc:1515] Unable to register cuBLAS factory: Attempting to register factory for plugin cuBLAS when one has already been registered\n",
      "2025-02-27 06:58:55.931924: I tensorflow/core/platform/cpu_feature_guard.cc:182] This TensorFlow binary is optimized to use available CPU instructions in performance-critical operations.\n",
      "To enable the following instructions: AVX2 FMA, in other operations, rebuild TensorFlow with the appropriate compiler flags.\n",
      "2025-02-27 06:58:57.833867: W tensorflow/compiler/tf2tensorrt/utils/py_utils.cc:38] TF-TRT Warning: Could not find TensorRT\n"
     ]
    }
   ],
   "source": [
    "import os\n",
    "import json\n",
    "import random\n",
    "import numpy as np\n",
    "import pandas as pd\n",
    "\n",
    "\n",
    "from sklearn.model_selection import train_test_split\n",
    "from sklearn.preprocessing import LabelEncoder\n",
    "from collections import Counter\n",
    "from sklearn.metrics import roc_auc_score\n",
    "from sklearn.metrics import accuracy_score, precision_score, f1_score, recall_score\n",
    "\n",
    "from keras.models import Sequential\n",
    "from keras.layers import Dense\n",
    "from keras.callbacks import EarlyStopping\n",
    "\n",
    "from sklearn.metrics import confusion_matrix, ConfusionMatrixDisplay\n",
    "import matplotlib.pyplot as plt\n",
    "\n",
    "from keras.utils import to_categorical, set_random_seed"
   ]
  },
  {
   "cell_type": "code",
   "execution_count": 2,
   "id": "f39c07d1-d166-4e8b-b257-7355a77a38ad",
   "metadata": {},
   "outputs": [],
   "source": [
    "def species_from_df(df):\n",
    "    '''\n",
    "    This function extracts species from the audio annotation files\n",
    "    '''\n",
    "    sps = []\n",
    "    for i in range(len(df)):\n",
    "        if not pd.isna(df.iloc[i]['Foreground Species']):\n",
    "            sps += df.iloc[i]['Foreground Species'].split(';')\n",
    "        if not pd.isna(df.iloc[i]['Background Species']):\n",
    "            sps += df.iloc[i]['Background Species'].split(';')\n",
    "    return list(set(sps))\n",
    "\n",
    "def get_opt_thresh(y_train, y_pred):\n",
    "    '''\n",
    "    Get the optimal probability threshold for sigmoid output\n",
    "    '''\n",
    "    num_points = 1000\n",
    "    thresh = np.linspace(.01,1, num_points)\n",
    "    acc = np.zeros(num_points)\n",
    "    \n",
    "    for i, th in enumerate(thresh):\n",
    "        acc[i] = accuracy_score(y_train, (y_pred > th).astype(int))\n",
    "    return thresh[np.argmax(acc)]\n",
    "\n",
    "def create_model(hidden_layers, input_size, output_size):\n",
    "    '''\n",
    "    Create an MLP\n",
    "    '''\n",
    "    model = Sequential()\n",
    "    if len(hidden_layers):\n",
    "        model.add(Dense(hidden_layers[0], input_dim=input_size, kernel_initializer='he_uniform', activation='relu'))\n",
    "    for indx, hl in hidden_layers[1:]:\n",
    "        model.add(Dense(hidden_layers[indx], input_dim=hidden_layers[indx - 1], kernel_initializer='he_uniform', activation='relu'))\n",
    "\n",
    "    model.add(Dense(output_size, activation='sigmoid'))\n",
    "    model.compile(loss='binary_crossentropy', optimizer='adam')\n",
    "    return model\n",
    "    "
   ]
  },
  {
   "cell_type": "code",
   "execution_count": 3,
   "id": "4f7389f5-e589-41cc-b4e2-4ac66cc1764a",
   "metadata": {},
   "outputs": [],
   "source": [
    "annotations_dir = '../annotations/'"
   ]
  },
  {
   "cell_type": "code",
   "execution_count": 4,
   "id": "a4d59280-10f6-445c-b2e3-80a99f14a179",
   "metadata": {},
   "outputs": [],
   "source": [
    "annotation_files = os.listdir(annotations_dir)\n",
    "    \n",
    "# audio \n",
    "aru_dfs = []\n",
    "for filename in annotation_files:\n",
    "    if 'aru' in filename  and filename.endswith('csv'):\n",
    "    \n",
    "        df = pd.read_csv(os.path.join(annotations_dir, filename))\n",
    "        aru_dfs.append(df)\n",
    "    \n",
    "annotations = pd.concat(aru_dfs)\n",
    "aru_cns = species_from_df(annotations)\n",
    "aru_cns.sort()\n",
    "\n",
    "# scientific names\n",
    "df_sp = pd.read_csv('../annotations/Kenya-Species-List.csv')\n",
    "aru_sns = [df_sp[df_sp['Common Name']==cn].iloc[0]['Scientific Name'] for cn in aru_cns]"
   ]
  },
  {
   "cell_type": "code",
   "execution_count": 5,
   "id": "70958acc-c94c-44e0-a3f4-92493cab4871",
   "metadata": {},
   "outputs": [],
   "source": [
    "# get number of files with species\n",
    "num_files = 0\n",
    "for indx, filename in enumerate(list(annotations['Filename'])):\n",
    "\n",
    "    recording_cn = []\n",
    "    if not pd.isna(annotations.iloc[indx]['Foreground Species']):\n",
    "        recording_cn += annotations.iloc[indx]['Foreground Species'].split(';')\n",
    "    if not pd.isna(annotations.iloc[indx]['Background Species']):\n",
    "        recording_cn += annotations.iloc[indx]['Background Species'].split(';')\n",
    "    \n",
    "    if len(recording_cn):\n",
    "        num_files += 1\n",
    "\n",
    "recording_species = np.zeros((num_files, len(aru_sns)))"
   ]
  },
  {
   "cell_type": "code",
   "execution_count": 6,
   "id": "875365a0-901e-48ea-964a-63ed91af4eef",
   "metadata": {},
   "outputs": [],
   "source": [
    "curr_file = 0    \n",
    "recording_filename = []\n",
    "for indx, filename in enumerate(list(annotations['Filename'])):\n",
    "\n",
    "    recording_cn = []\n",
    "    if not pd.isna(annotations.iloc[indx]['Foreground Species']):\n",
    "        recording_cn += annotations.iloc[indx]['Foreground Species'].split(';')\n",
    "    if not pd.isna(annotations.iloc[indx]['Background Species']):\n",
    "        recording_cn += annotations.iloc[indx]['Background Species'].split(';')\n",
    "\n",
    "    recording_sn = [df_sp[df_sp['Common Name']==cn].iloc[0]['Scientific Name'] for cn in recording_cn]\n",
    "\n",
    "    if len(recording_cn):\n",
    "        recording_filename.append(filename)\n",
    "        \n",
    "        for sp in recording_sn:\n",
    "            recording_species[curr_file, aru_sns.index(sp)] = 1\n",
    "            \n",
    "        curr_file += 1\n",
    "            "
   ]
  },
  {
   "cell_type": "markdown",
   "id": "15491124-ec85-4f98-a1a6-63fc496a9b55",
   "metadata": {},
   "source": [
    "## Number of Species per Recording - Figure 8\n",
    "\n",
    "The recordings have multiple species. We plot the distribution of number of species per recording."
   ]
  },
  {
   "cell_type": "code",
   "execution_count": 7,
   "id": "b8451b9f-2d5d-4139-b910-99fa8df0f9da",
   "metadata": {},
   "outputs": [
    {
     "data": {
      "image/png": "[encoded data removed]",
      "text/plain": [
       "<Figure size 640x480 with 1 Axes>"
      ]
     },
     "metadata": {},
     "output_type": "display_data"
    }
   ],
   "source": [
    "num_dist = Counter(np.sum(recording_species, 1))\n",
    "plt.bar(num_dist.keys(), num_dist.values())\n",
    "plt.xticks(range(1,10));\n",
    "\n",
    "plt.xlabel('Number of Species in Recording')\n",
    "plt.ylabel('Number of Recordings')\n",
    "\n",
    "plt.savefig('recording-species.jpg', dpi=300)"
   ]
  },
  {
   "cell_type": "code",
   "execution_count": 8,
   "id": "b64e6d73-d870-44c1-a56b-0d0bd739005d",
   "metadata": {},
   "outputs": [],
   "source": [
    "num_sp_rec = np.sum(recording_species, 0)"
   ]
  },
  {
   "cell_type": "code",
   "execution_count": 9,
   "id": "9cbadea2-ae0e-46a1-8a11-7e5371f599e3",
   "metadata": {},
   "outputs": [],
   "source": [
    "filtered_species = []\n",
    "recording_threshold = 20\n",
    "\n",
    "for i, status in enumerate(num_sp_rec >= recording_threshold):\n",
    "    if status:\n",
    "        filtered_species.append(aru_cns[i])\n",
    "        "
   ]
  },
  {
   "cell_type": "code",
   "execution_count": 10,
   "id": "379395ae-9bc9-467b-8c97-0febcf6ff223",
   "metadata": {},
   "outputs": [
    {
     "name": "stdout",
     "output_type": "stream",
     "text": [
      "Black-backed Puffback 33.0\n",
      "Brown Woodland Warbler 519.0\n",
      "Cape Robin Chat 22.0\n",
      "Chestnut-throated Apalis 132.0\n",
      "Chin-spot Batis 38.0\n",
      "Cinnamon Bracken Warbler 82.0\n",
      "Cinnamon-chested Bee-eater 28.0\n",
      "Collared Sunbird 41.0\n",
      "Common Bulbul 150.0\n",
      "Grey Apalis 28.0\n",
      "Grey-backed Camaroptera 179.0\n",
      "Hartlaub's Turaco 113.0\n",
      "Montane White-eye 76.0\n",
      "Mountain Yellow Warbler 77.0\n",
      "Olive Thrush 31.0\n",
      "Red-fronted Parrot 100.0\n",
      "Rüppell's Robin Chat 29.0\n",
      "Tambourine Dove 50.0\n",
      "Tropical Boubou 113.0\n",
      "Variable Sunbird 38.0\n",
      "White-starred Robin 70.0\n",
      "Yellow-breasted Apalis 22.0\n",
      "Yellow-rumped Tinkerbird 124.0\n",
      "Yellow-whiskered Greenbul 221.0\n"
     ]
    }
   ],
   "source": [
    "for sp in filtered_species:\n",
    "    print(sp, num_sp_rec[aru_cns.index(sp)])"
   ]
  },
  {
   "cell_type": "code",
   "execution_count": 11,
   "id": "6fb27af0-36aa-4373-9b85-cb5614277bce",
   "metadata": {},
   "outputs": [],
   "source": [
    "y = recording_species[:,num_sp_rec >= recording_threshold]"
   ]
  },
  {
   "cell_type": "code",
   "execution_count": 12,
   "id": "e0d8e778-6241-4f0b-b84e-dbae48c0a5d1",
   "metadata": {},
   "outputs": [
    {
     "data": {
      "text/plain": [
       "1188"
      ]
     },
     "execution_count": 12,
     "metadata": {},
     "output_type": "execute_result"
    }
   ],
   "source": [
    "len(recording_filename)"
   ]
  },
  {
   "cell_type": "markdown",
   "id": "1444c2c9-c086-41e3-9017-e46bbd9c7b43",
   "metadata": {},
   "source": [
    "## Train Model\n",
    "We obtain embeddings and use the mean embedding per file as the feature."
   ]
  },
  {
   "cell_type": "code",
   "execution_count": 13,
   "id": "cdfba237-fc75-414d-9f61-6bc72ecf1426",
   "metadata": {},
   "outputs": [],
   "source": [
    "embeddings_dir = '../embeddings/'\n",
    "mean_embeddings = np.array([])\n",
    "for filename in recording_filename:\n",
    "    \n",
    "    npzfile = np.load(os.path.join(embeddings_dir, filename.replace('mp3','npz')))\n",
    "    file_embeddings = npzfile['embeddings']\n",
    "\n",
    "    if mean_embeddings.size:\n",
    "        mean_embeddings = np.vstack((mean_embeddings, np.mean(file_embeddings, 0)))\n",
    "    else:\n",
    "        mean_embeddings = np.mean(file_embeddings, 0)"
   ]
  },
  {
   "cell_type": "code",
   "execution_count": 14,
   "id": "b63167c3-7c40-4eef-ac6f-e7f9b985d136",
   "metadata": {},
   "outputs": [
    {
     "data": {
      "text/plain": [
       "(1188, 1280)"
      ]
     },
     "execution_count": 14,
     "metadata": {},
     "output_type": "execute_result"
    }
   ],
   "source": [
    "mean_embeddings.shape"
   ]
  },
  {
   "cell_type": "code",
   "execution_count": 15,
   "id": "bc994063-7a35-4094-9932-93855fc934e3",
   "metadata": {},
   "outputs": [],
   "source": [
    "X_train, X_test, y_train, y_test = train_test_split(mean_embeddings, y, test_size=0.3, random_state=12)    "
   ]
  },
  {
   "cell_type": "code",
   "execution_count": 16,
   "id": "74bbec3d-9962-476e-a1da-45cb74d8e9a4",
   "metadata": {},
   "outputs": [],
   "source": [
    "input_size = X_train.shape[1]\n",
    "hidden_layer_size = 200\n",
    "output_size = y.shape[1]"
   ]
  },
  {
   "cell_type": "code",
   "execution_count": 17,
   "id": "c620fc3c-8b28-494d-aea4-2f0a2c16e367",
   "metadata": {},
   "outputs": [
    {
     "name": "stderr",
     "output_type": "stream",
     "text": [
      "2025-02-27 06:59:04.896077: I external/local_xla/xla/stream_executor/cuda/cuda_executor.cc:901] successful NUMA node read from SysFS had negative value (-1), but there must be at least one NUMA node, so returning NUMA node zero. See more at https://github.com/torvalds/linux/blob/v6.0/Documentation/ABI/testing/sysfs-bus-pci#L344-L355\n",
      "2025-02-27 06:59:04.973465: W tensorflow/core/common_runtime/gpu/gpu_device.cc:2256] Cannot dlopen some GPU libraries. Please make sure the missing libraries mentioned above are installed properly if you would like to use GPU. Follow the guide at https://www.tensorflow.org/install/gpu for how to download and setup the required libraries for your platform.\n",
      "Skipping registering GPU devices...\n"
     ]
    },
    {
     "name": "stdout",
     "output_type": "stream",
     "text": [
      "Macro-averaged One-vs-Rest ROC AUC score:\n",
      "0.91\n"
     ]
    }
   ],
   "source": [
    "np.random.seed(123)\n",
    "set_random_seed(123)\n",
    "\n",
    "callback = EarlyStopping(monitor='val_loss', patience=10)\n",
    "model = create_model(hidden_layers=(200,), input_size=input_size, output_size=output_size)\n",
    "history = model.fit(X_train, y_train, validation_data = (X_test, y_test), verbose=0, epochs=100, callbacks=[callback])\n",
    "\n",
    "y_pred = model.predict(X_test, verbose=0)\n",
    "\n",
    "\n",
    "macro_roc_auc_ovr = roc_auc_score(\n",
    "    y_test,\n",
    "    y_pred,\n",
    "    multi_class=\"ovr\",\n",
    "    average=\"macro\",\n",
    ")\n",
    "\n",
    "print(f\"Macro-averaged One-vs-Rest ROC AUC score:\\n{macro_roc_auc_ovr:.2f}\")"
   ]
  },
  {
   "cell_type": "code",
   "execution_count": 1,
   "id": "edd510a8-b111-450e-9219-98696eeb28f4",
   "metadata": {},
   "outputs": [
    {
     "ename": "NameError",
     "evalue": "name 'plt' is not defined",
     "output_type": "error",
     "traceback": [
      "\u001b[0;31m---------------------------------------------------------------------------\u001b[0m",
      "\u001b[0;31mNameError\u001b[0m                                 Traceback (most recent call last)",
      "Cell \u001b[0;32mIn[1], line 1\u001b[0m\n\u001b[0;32m----> 1\u001b[0m \u001b[43mplt\u001b[49m\u001b[38;5;241m.\u001b[39mplot(history\u001b[38;5;241m.\u001b[39mhistory[\u001b[38;5;124m'\u001b[39m\u001b[38;5;124mloss\u001b[39m\u001b[38;5;124m'\u001b[39m], label\u001b[38;5;241m=\u001b[39m\u001b[38;5;124m'\u001b[39m\u001b[38;5;124mloss\u001b[39m\u001b[38;5;124m'\u001b[39m)\n\u001b[1;32m      2\u001b[0m plt\u001b[38;5;241m.\u001b[39mplot(history\u001b[38;5;241m.\u001b[39mhistory[\u001b[38;5;124m'\u001b[39m\u001b[38;5;124mval_loss\u001b[39m\u001b[38;5;124m'\u001b[39m], label\u001b[38;5;241m=\u001b[39m\u001b[38;5;124m'\u001b[39m\u001b[38;5;124mval_loss\u001b[39m\u001b[38;5;124m'\u001b[39m)\n\u001b[1;32m      3\u001b[0m plt\u001b[38;5;241m.\u001b[39mlegend()\n",
      "\u001b[0;31mNameError\u001b[0m: name 'plt' is not defined"
     ]
    }
   ],
   "source": [
    "plt.plot(history.history['loss'], label='loss')\n",
    "plt.plot(history.history['val_loss'], label='val_loss')\n",
    "plt.legend()"
   ]
  },
  {
   "cell_type": "code",
   "execution_count": 19,
   "id": "ed9f7e14-43ae-48fd-9a0c-e4c260f0f7e4",
   "metadata": {},
   "outputs": [
    {
     "data": {
      "text/plain": [
       "0.27170868347338933"
      ]
     },
     "execution_count": 19,
     "metadata": {},
     "output_type": "execute_result"
    }
   ],
   "source": [
    "y_pred = model.predict(X_train, verbose=0)\n",
    "opt_thresh = get_opt_thresh(y_train, y_pred)\n",
    "\n",
    "y_pred = model.predict(X_test, verbose=0)\n",
    "accuracy_score(y_test, (y_pred > opt_thresh).astype(int))"
   ]
  },
  {
   "cell_type": "code",
   "execution_count": 20,
   "id": "1fbd7da3-4a76-49be-899b-5f9ada2c23ae",
   "metadata": {},
   "outputs": [],
   "source": [
    "y_pred_thresh = (y_pred > opt_thresh).astype(int)"
   ]
  },
  {
   "cell_type": "code",
   "execution_count": 21,
   "id": "f9e7e68c-6a13-4cc9-9465-b522541e6710",
   "metadata": {},
   "outputs": [],
   "source": [
    "model.save(\"multi-species.keras\")"
   ]
  },
  {
   "cell_type": "code",
   "execution_count": 22,
   "id": "c98cd8d5-f741-4447-a0fa-ade141b79eb1",
   "metadata": {},
   "outputs": [],
   "source": [
    "pre = []\n",
    "recall = []\n",
    "f1 = []\n",
    "for indx, sp in enumerate(filtered_species):\n",
    "    pre.append(precision_score(y_test[:,indx], y_pred_thresh[:,indx]))\n",
    "    recall.append(recall_score(y_test[:,indx], y_pred_thresh[:,indx]))\n",
    "    f1.append(f1_score(y_test[:,indx], y_pred_thresh[:,indx]))\n",
    "\n",
    "res_df = pd.DataFrame(zip(filtered_species,pre,recall,f1), columns=['Common Name', 'Precision', 'Recall', 'F1-Score'])"
   ]
  },
  {
   "cell_type": "code",
   "execution_count": 23,
   "id": "d8b60277-f9c5-4aa3-bfa4-891e354fe3c0",
   "metadata": {},
   "outputs": [
    {
     "data": {
      "text/html": [
       "<div>\n",
       "<style scoped>\n",
       "    .dataframe tbody tr th:only-of-type {\n",
       "        vertical-align: middle;\n",
       "    }\n",
       "\n",
       "    .dataframe tbody tr th {\n",
       "        vertical-align: top;\n",
       "    }\n",
       "\n",
       "    .dataframe thead th {\n",
       "        text-align: right;\n",
       "    }\n",
       "</style>\n",
       "<table border=\"1\" class=\"dataframe\">\n",
       "  <thead>\n",
       "    <tr style=\"text-align: right;\">\n",
       "      <th></th>\n",
       "      <th>Common Name</th>\n",
       "      <th>Precision</th>\n",
       "      <th>Recall</th>\n",
       "      <th>F1-Score</th>\n",
       "    </tr>\n",
       "  </thead>\n",
       "  <tbody>\n",
       "    <tr>\n",
       "      <th>1</th>\n",
       "      <td>Brown Woodland Warbler</td>\n",
       "      <td>0.86</td>\n",
       "      <td>0.86</td>\n",
       "      <td>0.86</td>\n",
       "    </tr>\n",
       "    <tr>\n",
       "      <th>23</th>\n",
       "      <td>Yellow-whiskered Greenbul</td>\n",
       "      <td>0.66</td>\n",
       "      <td>0.73</td>\n",
       "      <td>0.69</td>\n",
       "    </tr>\n",
       "    <tr>\n",
       "      <th>8</th>\n",
       "      <td>Common Bulbul</td>\n",
       "      <td>0.56</td>\n",
       "      <td>0.85</td>\n",
       "      <td>0.67</td>\n",
       "    </tr>\n",
       "    <tr>\n",
       "      <th>10</th>\n",
       "      <td>Grey-backed Camaroptera</td>\n",
       "      <td>0.68</td>\n",
       "      <td>0.64</td>\n",
       "      <td>0.66</td>\n",
       "    </tr>\n",
       "    <tr>\n",
       "      <th>11</th>\n",
       "      <td>Hartlaub's Turaco</td>\n",
       "      <td>0.75</td>\n",
       "      <td>0.53</td>\n",
       "      <td>0.62</td>\n",
       "    </tr>\n",
       "    <tr>\n",
       "      <th>22</th>\n",
       "      <td>Yellow-rumped Tinkerbird</td>\n",
       "      <td>0.69</td>\n",
       "      <td>0.50</td>\n",
       "      <td>0.58</td>\n",
       "    </tr>\n",
       "    <tr>\n",
       "      <th>17</th>\n",
       "      <td>Tambourine Dove</td>\n",
       "      <td>0.46</td>\n",
       "      <td>0.67</td>\n",
       "      <td>0.55</td>\n",
       "    </tr>\n",
       "    <tr>\n",
       "      <th>4</th>\n",
       "      <td>Chin-spot Batis</td>\n",
       "      <td>0.88</td>\n",
       "      <td>0.39</td>\n",
       "      <td>0.54</td>\n",
       "    </tr>\n",
       "    <tr>\n",
       "      <th>15</th>\n",
       "      <td>Red-fronted Parrot</td>\n",
       "      <td>0.44</td>\n",
       "      <td>0.67</td>\n",
       "      <td>0.53</td>\n",
       "    </tr>\n",
       "    <tr>\n",
       "      <th>13</th>\n",
       "      <td>Mountain Yellow Warbler</td>\n",
       "      <td>0.75</td>\n",
       "      <td>0.41</td>\n",
       "      <td>0.53</td>\n",
       "    </tr>\n",
       "    <tr>\n",
       "      <th>18</th>\n",
       "      <td>Tropical Boubou</td>\n",
       "      <td>0.38</td>\n",
       "      <td>0.68</td>\n",
       "      <td>0.49</td>\n",
       "    </tr>\n",
       "    <tr>\n",
       "      <th>5</th>\n",
       "      <td>Cinnamon Bracken Warbler</td>\n",
       "      <td>0.57</td>\n",
       "      <td>0.41</td>\n",
       "      <td>0.48</td>\n",
       "    </tr>\n",
       "    <tr>\n",
       "      <th>3</th>\n",
       "      <td>Chestnut-throated Apalis</td>\n",
       "      <td>0.92</td>\n",
       "      <td>0.27</td>\n",
       "      <td>0.42</td>\n",
       "    </tr>\n",
       "    <tr>\n",
       "      <th>20</th>\n",
       "      <td>White-starred Robin</td>\n",
       "      <td>0.75</td>\n",
       "      <td>0.29</td>\n",
       "      <td>0.41</td>\n",
       "    </tr>\n",
       "    <tr>\n",
       "      <th>6</th>\n",
       "      <td>Cinnamon-chested Bee-eater</td>\n",
       "      <td>1.00</td>\n",
       "      <td>0.17</td>\n",
       "      <td>0.29</td>\n",
       "    </tr>\n",
       "    <tr>\n",
       "      <th>7</th>\n",
       "      <td>Collared Sunbird</td>\n",
       "      <td>0.33</td>\n",
       "      <td>0.22</td>\n",
       "      <td>0.27</td>\n",
       "    </tr>\n",
       "    <tr>\n",
       "      <th>19</th>\n",
       "      <td>Variable Sunbird</td>\n",
       "      <td>0.40</td>\n",
       "      <td>0.18</td>\n",
       "      <td>0.25</td>\n",
       "    </tr>\n",
       "    <tr>\n",
       "      <th>0</th>\n",
       "      <td>Black-backed Puffback</td>\n",
       "      <td>0.20</td>\n",
       "      <td>0.29</td>\n",
       "      <td>0.24</td>\n",
       "    </tr>\n",
       "    <tr>\n",
       "      <th>12</th>\n",
       "      <td>Montane White-eye</td>\n",
       "      <td>0.67</td>\n",
       "      <td>0.14</td>\n",
       "      <td>0.23</td>\n",
       "    </tr>\n",
       "    <tr>\n",
       "      <th>9</th>\n",
       "      <td>Grey Apalis</td>\n",
       "      <td>0.50</td>\n",
       "      <td>0.14</td>\n",
       "      <td>0.22</td>\n",
       "    </tr>\n",
       "    <tr>\n",
       "      <th>2</th>\n",
       "      <td>Cape Robin Chat</td>\n",
       "      <td>0.50</td>\n",
       "      <td>0.11</td>\n",
       "      <td>0.18</td>\n",
       "    </tr>\n",
       "    <tr>\n",
       "      <th>14</th>\n",
       "      <td>Olive Thrush</td>\n",
       "      <td>0.20</td>\n",
       "      <td>0.08</td>\n",
       "      <td>0.12</td>\n",
       "    </tr>\n",
       "    <tr>\n",
       "      <th>16</th>\n",
       "      <td>Rüppell's Robin Chat</td>\n",
       "      <td>0.00</td>\n",
       "      <td>0.00</td>\n",
       "      <td>0.00</td>\n",
       "    </tr>\n",
       "    <tr>\n",
       "      <th>21</th>\n",
       "      <td>Yellow-breasted Apalis</td>\n",
       "      <td>0.00</td>\n",
       "      <td>0.00</td>\n",
       "      <td>0.00</td>\n",
       "    </tr>\n",
       "  </tbody>\n",
       "</table>\n",
       "</div>"
      ],
      "text/plain": [
       "                   Common Name  Precision  Recall  F1-Score\n",
       "1       Brown Woodland Warbler       0.86    0.86      0.86\n",
       "23   Yellow-whiskered Greenbul       0.66    0.73      0.69\n",
       "8                Common Bulbul       0.56    0.85      0.67\n",
       "10     Grey-backed Camaroptera       0.68    0.64      0.66\n",
       "11           Hartlaub's Turaco       0.75    0.53      0.62\n",
       "22    Yellow-rumped Tinkerbird       0.69    0.50      0.58\n",
       "17             Tambourine Dove       0.46    0.67      0.55\n",
       "4              Chin-spot Batis       0.88    0.39      0.54\n",
       "15          Red-fronted Parrot       0.44    0.67      0.53\n",
       "13     Mountain Yellow Warbler       0.75    0.41      0.53\n",
       "18             Tropical Boubou       0.38    0.68      0.49\n",
       "5     Cinnamon Bracken Warbler       0.57    0.41      0.48\n",
       "3     Chestnut-throated Apalis       0.92    0.27      0.42\n",
       "20         White-starred Robin       0.75    0.29      0.41\n",
       "6   Cinnamon-chested Bee-eater       1.00    0.17      0.29\n",
       "7             Collared Sunbird       0.33    0.22      0.27\n",
       "19            Variable Sunbird       0.40    0.18      0.25\n",
       "0        Black-backed Puffback       0.20    0.29      0.24\n",
       "12           Montane White-eye       0.67    0.14      0.23\n",
       "9                  Grey Apalis       0.50    0.14      0.22\n",
       "2              Cape Robin Chat       0.50    0.11      0.18\n",
       "14                Olive Thrush       0.20    0.08      0.12\n",
       "16        Rüppell's Robin Chat       0.00    0.00      0.00\n",
       "21      Yellow-breasted Apalis       0.00    0.00      0.00"
      ]
     },
     "execution_count": 23,
     "metadata": {},
     "output_type": "execute_result"
    }
   ],
   "source": [
    "res_df.sort_values(by=['F1-Score'], ascending=False).round(2)"
   ]
  },
  {
   "cell_type": "code",
   "execution_count": 24,
   "id": "a68823a6-9b65-4b82-b52d-016d3b82abb6",
   "metadata": {},
   "outputs": [],
   "source": [
    "res_df.to_csv('multi-species-mlp.csv')"
   ]
  },
  {
   "cell_type": "code",
   "execution_count": 25,
   "id": "10bd4bd6-0af0-4be7-a311-8467d28868fe",
   "metadata": {},
   "outputs": [
    {
     "name": "stdout",
     "output_type": "stream",
     "text": [
      "Mean AUC: 0.904286543826602, Mean Accuracy 0.30577030812324923\n"
     ]
    }
   ],
   "source": [
    "num_trial = 100\n",
    "trial = 0\n",
    "\n",
    "np.random.seed(123)\n",
    "set_random_seed(123)\n",
    "\n",
    "mlp_auc = []\n",
    "mlp_acc = []\n",
    "\n",
    "\n",
    "while trial < num_trial:\n",
    "    X_train, X_test, y_train, y_test = train_test_split(mean_embeddings, y, test_size=0.3)\n",
    "    \n",
    "    model = create_model(hidden_layers=(200,), input_size=input_size, output_size=output_size)\n",
    "    \n",
    "\n",
    "    if sum(np.sum(y_train, 0) > 0)  == y.shape[1]  and sum(np.sum(y_test, 0) > 0)  == y.shape[1]:\n",
    "        history = model.fit(X_train, y_train, validation_data = (X_test, y_test), verbose=0, epochs=100, callbacks=[callback])\n",
    "\n",
    "        y_pred = model.predict(X_train, verbose=0)\n",
    "        opt_thresh = get_opt_thresh(y_train, y_pred)\n",
    "\n",
    "        y_pred = model.predict(X_test, verbose=0)\n",
    "        accuracy = accuracy_score(y_test, (y_pred > opt_thresh).astype(int))\n",
    "        \n",
    "        macro_roc_auc_ovr = roc_auc_score(\n",
    "                                y_test,\n",
    "                                y_pred,\n",
    "                                multi_class=\"ovr\",\n",
    "                                average=\"macro\",\n",
    "                            )\n",
    "                            \n",
    "\n",
    "        mlp_auc.append(macro_roc_auc_ovr)\n",
    "        mlp_acc.append(accuracy)\n",
    "\n",
    "       \n",
    "        trial += 1\n",
    "\n",
    "print('Mean AUC: {}, Mean Accuracy {}'.format(np.mean(mlp_auc), np.mean(mlp_acc)))"
   ]
  }
 ],
 "metadata": {
  "kernelspec": {
   "display_name": "Python 3 (ipykernel)",
   "language": "python",
   "name": "python3"
  },
  "language_info": {
   "codemirror_mode": {
    "name": "ipython",
    "version": 3
   },
   "file_extension": ".py",
   "mimetype": "text/x-python",
   "name": "python",
   "nbconvert_exporter": "python",
   "pygments_lexer": "ipython3",
   "version": "3.10.11"
  }
 },
 "nbformat": 4,
 "nbformat_minor": 5
}
